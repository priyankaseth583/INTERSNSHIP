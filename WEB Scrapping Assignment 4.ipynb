{
 "cells": [
  {
   "cell_type": "code",
   "execution_count": 14,
   "id": "3c61d650",
   "metadata": {},
   "outputs": [
    {
     "name": "stdout",
     "output_type": "stream",
     "text": [
      "Requirement already satisfied: selenium in c:\\users\\dell\\anaconda3\\lib\\site-packages (4.8.2)\n",
      "Requirement already satisfied: urllib3[socks]~=1.26 in c:\\users\\dell\\anaconda3\\lib\\site-packages (from selenium) (1.26.11)\n",
      "Requirement already satisfied: trio-websocket~=0.9 in c:\\users\\dell\\anaconda3\\lib\\site-packages (from selenium) (0.9.2)\n",
      "Requirement already satisfied: trio~=0.17 in c:\\users\\dell\\anaconda3\\lib\\site-packages (from selenium) (0.22.0)\n",
      "Requirement already satisfied: certifi>=2021.10.8 in c:\\users\\dell\\anaconda3\\lib\\site-packages (from selenium) (2022.9.14)\n",
      "Requirement already satisfied: attrs>=19.2.0 in c:\\users\\dell\\anaconda3\\lib\\site-packages (from trio~=0.17->selenium) (21.4.0)\n",
      "Requirement already satisfied: idna in c:\\users\\dell\\anaconda3\\lib\\site-packages (from trio~=0.17->selenium) (3.3)\n",
      "Requirement already satisfied: async-generator>=1.9 in c:\\users\\dell\\anaconda3\\lib\\site-packages (from trio~=0.17->selenium) (1.10)\n",
      "Requirement already satisfied: sniffio in c:\\users\\dell\\anaconda3\\lib\\site-packages (from trio~=0.17->selenium) (1.2.0)\n",
      "Requirement already satisfied: exceptiongroup>=1.0.0rc9 in c:\\users\\dell\\anaconda3\\lib\\site-packages (from trio~=0.17->selenium) (1.1.0)\n",
      "Requirement already satisfied: outcome in c:\\users\\dell\\anaconda3\\lib\\site-packages (from trio~=0.17->selenium) (1.2.0)\n",
      "Requirement already satisfied: cffi>=1.14 in c:\\users\\dell\\anaconda3\\lib\\site-packages (from trio~=0.17->selenium) (1.15.1)\n",
      "Requirement already satisfied: sortedcontainers in c:\\users\\dell\\anaconda3\\lib\\site-packages (from trio~=0.17->selenium) (2.4.0)\n",
      "Requirement already satisfied: wsproto>=0.14 in c:\\users\\dell\\anaconda3\\lib\\site-packages (from trio-websocket~=0.9->selenium) (1.2.0)\n",
      "Requirement already satisfied: PySocks!=1.5.7,<2.0,>=1.5.6 in c:\\users\\dell\\anaconda3\\lib\\site-packages (from urllib3[socks]~=1.26->selenium) (1.7.1)\n",
      "Requirement already satisfied: pycparser in c:\\users\\dell\\anaconda3\\lib\\site-packages (from cffi>=1.14->trio~=0.17->selenium) (2.21)\n",
      "Requirement already satisfied: h11<1,>=0.9.0 in c:\\users\\dell\\anaconda3\\lib\\site-packages (from wsproto>=0.14->trio-websocket~=0.9->selenium) (0.14.0)\n"
     ]
    }
   ],
   "source": [
    "!pip install selenium"
   ]
  },
  {
   "cell_type": "code",
   "execution_count": 15,
   "id": "76b31fd9",
   "metadata": {},
   "outputs": [
    {
     "name": "stdout",
     "output_type": "stream",
     "text": [
      "current python version- 3.9.13\n"
     ]
    }
   ],
   "source": [
    "from platform import python_version\n",
    "print(\"current python version-\",python_version())"
   ]
  },
  {
   "cell_type": "code",
   "execution_count": 16,
   "id": "4328c020",
   "metadata": {},
   "outputs": [
    {
     "name": "stdout",
     "output_type": "stream",
     "text": [
      "Requirement already satisfied: selenium in c:\\users\\dell\\anaconda3\\lib\\site-packages (4.8.2)\n",
      "Requirement already satisfied: trio~=0.17 in c:\\users\\dell\\anaconda3\\lib\\site-packages (from selenium) (0.22.0)\n",
      "Requirement already satisfied: trio-websocket~=0.9 in c:\\users\\dell\\anaconda3\\lib\\site-packages (from selenium) (0.9.2)\n",
      "Requirement already satisfied: urllib3[socks]~=1.26 in c:\\users\\dell\\anaconda3\\lib\\site-packages (from selenium) (1.26.11)\n",
      "Requirement already satisfied: certifi>=2021.10.8 in c:\\users\\dell\\anaconda3\\lib\\site-packages (from selenium) (2022.9.14)\n",
      "Requirement already satisfied: attrs>=19.2.0 in c:\\users\\dell\\anaconda3\\lib\\site-packages (from trio~=0.17->selenium) (21.4.0)\n",
      "Requirement already satisfied: idna in c:\\users\\dell\\anaconda3\\lib\\site-packages (from trio~=0.17->selenium) (3.3)\n",
      "Requirement already satisfied: cffi>=1.14 in c:\\users\\dell\\anaconda3\\lib\\site-packages (from trio~=0.17->selenium) (1.15.1)\n",
      "Requirement already satisfied: outcome in c:\\users\\dell\\anaconda3\\lib\\site-packages (from trio~=0.17->selenium) (1.2.0)\n",
      "Requirement already satisfied: sortedcontainers in c:\\users\\dell\\anaconda3\\lib\\site-packages (from trio~=0.17->selenium) (2.4.0)\n",
      "Requirement already satisfied: sniffio in c:\\users\\dell\\anaconda3\\lib\\site-packages (from trio~=0.17->selenium) (1.2.0)\n",
      "Requirement already satisfied: exceptiongroup>=1.0.0rc9 in c:\\users\\dell\\anaconda3\\lib\\site-packages (from trio~=0.17->selenium) (1.1.0)\n",
      "Requirement already satisfied: async-generator>=1.9 in c:\\users\\dell\\anaconda3\\lib\\site-packages (from trio~=0.17->selenium) (1.10)\n",
      "Requirement already satisfied: wsproto>=0.14 in c:\\users\\dell\\anaconda3\\lib\\site-packages (from trio-websocket~=0.9->selenium) (1.2.0)\n",
      "Requirement already satisfied: PySocks!=1.5.7,<2.0,>=1.5.6 in c:\\users\\dell\\anaconda3\\lib\\site-packages (from urllib3[socks]~=1.26->selenium) (1.7.1)\n",
      "Requirement already satisfied: pycparser in c:\\users\\dell\\anaconda3\\lib\\site-packages (from cffi>=1.14->trio~=0.17->selenium) (2.21)\n",
      "Requirement already satisfied: h11<1,>=0.9.0 in c:\\users\\dell\\anaconda3\\lib\\site-packages (from wsproto>=0.14->trio-websocket~=0.9->selenium) (0.14.0)\n"
     ]
    }
   ],
   "source": [
    "!pip install -U selenium"
   ]
  },
  {
   "cell_type": "code",
   "execution_count": 19,
   "id": "f2c73faa",
   "metadata": {},
   "outputs": [],
   "source": [
    "import selenium\n",
    "import pandas as pd\n",
    "import numpy as np\n",
    "from selenium import webdriver\n",
    "from selenium.webdriver.support.ui import WebDriverWait\n",
    "from selenium.webdriver.support import expected_conditions as EC\n",
    "from selenium.webdriver.common.by import By\n",
    "from selenium.common.exceptions import TimeoutException\n",
    "from selenium.common.exceptions import NoSuchElementException\n",
    "from selenium.common.exceptions import ElementNotInteractableException\n",
    "import time"
   ]
  },
  {
   "cell_type": "code",
   "execution_count": 20,
   "id": "33f2499f",
   "metadata": {},
   "outputs": [
    {
     "name": "stderr",
     "output_type": "stream",
     "text": [
      "C:\\Users\\dell\\AppData\\Local\\Temp\\ipykernel_17372\\191662975.py:1: DeprecationWarning: executable_path has been deprecated, please pass in a Service object\n",
      "  driver=webdriver.Chrome(r\"chromedriver.exe\")\n"
     ]
    }
   ],
   "source": [
    "driver=webdriver.Chrome(r\"chromedriver.exe\")"
   ]
  },
  {
   "cell_type": "markdown",
   "id": "b4b4df86",
   "metadata": {},
   "source": [
    "# 1. Scrape the details of most viewed videos on YouTube from Wikipedia.\n",
    "Url = https://en.wikipedia.org/wiki/List_of_most-viewed_YouTube_videos\n",
    "You need to find following details:\n",
    "A) Rank\n",
    "B) Name\n",
    "C) Artist\n",
    "D) Upload date"
   ]
  },
  {
   "cell_type": "code",
   "execution_count": 21,
   "id": "a2703be2",
   "metadata": {},
   "outputs": [
    {
     "name": "stderr",
     "output_type": "stream",
     "text": [
      "C:\\Users\\dell\\AppData\\Local\\Temp\\ipykernel_17372\\2823750982.py:1: DeprecationWarning: executable_path has been deprecated, please pass in a Service object\n",
      "  driver = webdriver.Chrome(r'chromedriver.exe')  # Optional argument, if not specified will search path.\n"
     ]
    }
   ],
   "source": [
    "driver = webdriver.Chrome(r'chromedriver.exe')  # Optional argument, if not specified will search path.\n",
    "driver.get('   https://en.wikipedia.org/wiki/List_of_most-viewed_YouTube_videos ');\n",
    "time.sleep(5)"
   ]
  },
  {
   "cell_type": "code",
   "execution_count": 22,
   "id": "f342cce4",
   "metadata": {},
   "outputs": [],
   "source": [
    "names=driver.find_elements(By.XPATH,'//table[@class=\"wikitable sortable jquery-tablesorter\"]//tbody//tr//td[2]')\n",
    "\n",
    "for i in names[0:30]:\n",
    "\n",
    "       names.append(i.text)"
   ]
  },
  {
   "cell_type": "code",
   "execution_count": 23,
   "id": "749e48d9",
   "metadata": {},
   "outputs": [
    {
     "data": {
      "text/plain": [
       "['\"Baby Shark Dance\"[4]',\n",
       " \"Pinkfong Baby Shark - Kids' Songs & Stories\",\n",
       " '7,046,700,000',\n",
       " 'June 17, 2016',\n",
       " 'November 2, 2020',\n",
       " '1600']"
      ]
     },
     "execution_count": 23,
     "metadata": {},
     "output_type": "execute_result"
    }
   ],
   "source": [
    "#finding details\n",
    "details=[]\n",
    "for i in driver.find_elements(By.XPATH,'//*[@id=\"mw-content-text\"]/div[1]/table[3]/tbody/tr/td'):\n",
    "    details.append(i.text.replace(\"\\n\",\" \"))\n",
    "details[0:6]"
   ]
  },
  {
   "cell_type": "code",
   "execution_count": 24,
   "id": "f8085ecd",
   "metadata": {},
   "outputs": [
    {
     "name": "stdout",
     "output_type": "stream",
     "text": [
      "['\"Baby Shark Dance\"[4]', '862', '2,993,700,000', '[62]']\n",
      "[\"Pinkfong Baby Shark - Kids' Songs & Stories\", '', 'January 12, 2017', '[B]']\n",
      "['7,046,700,000', '', 'August 4, 2017', '\"See You Again\"[18]']\n",
      "['June 17, 2016', '', '206', 'Wiz Khalifa']\n",
      "['June 17, 2016', '', '206', 'Wiz Khalifa']\n"
     ]
    }
   ],
   "source": [
    "#seperating the details\n",
    "#creating empty list\n",
    "rank=[]\n",
    "name=[]\n",
    "artist=[]\n",
    "views=[]\n",
    "upload=[]\n",
    "count=0\n",
    "#seperating details using indexing\n",
    "while count<int(len(details)):\n",
    "    rank.append(details[count])\n",
    "    name.append(details[count+1])\n",
    "    artist.append(details[count+2])\n",
    "    views.append(details[count+3])\n",
    "    upload.append(details[count+3])\n",
    "    count=count+6 \n",
    "print(rank[0:4])\n",
    "print(name[0:4])\n",
    "print(artist[0:4])\n",
    "print(views[0:4])\n",
    "print(upload[0:4])"
   ]
  },
  {
   "cell_type": "code",
   "execution_count": 25,
   "id": "0a320aae",
   "metadata": {},
   "outputs": [
    {
     "name": "stdout",
     "output_type": "stream",
     "text": [
      "32\n",
      "32\n",
      "32\n",
      "32\n",
      "32\n"
     ]
    }
   ],
   "source": [
    "#check the length of each\n",
    "print(len(rank))\n",
    "print(len(name))\n",
    "print(len(artist))\n",
    "print(len(views))\n",
    "print(len(upload))"
   ]
  },
  {
   "cell_type": "code",
   "execution_count": 26,
   "id": "489b96f3",
   "metadata": {},
   "outputs": [
    {
     "data": {
      "text/html": [
       "<div>\n",
       "<style scoped>\n",
       "    .dataframe tbody tr th:only-of-type {\n",
       "        vertical-align: middle;\n",
       "    }\n",
       "\n",
       "    .dataframe tbody tr th {\n",
       "        vertical-align: top;\n",
       "    }\n",
       "\n",
       "    .dataframe thead th {\n",
       "        text-align: right;\n",
       "    }\n",
       "</style>\n",
       "<table border=\"1\" class=\"dataframe\">\n",
       "  <thead>\n",
       "    <tr style=\"text-align: right;\">\n",
       "      <th></th>\n",
       "      <th>Rank</th>\n",
       "      <th>Name</th>\n",
       "      <th>Artist</th>\n",
       "      <th>Upload date</th>\n",
       "      <th>Views</th>\n",
       "    </tr>\n",
       "  </thead>\n",
       "  <tbody>\n",
       "    <tr>\n",
       "      <th>0</th>\n",
       "      <td>\"Baby Shark Dance\"[4]</td>\n",
       "      <td>Pinkfong Baby Shark - Kids' Songs &amp; Stories</td>\n",
       "      <td>7,046,700,000</td>\n",
       "      <td>June 17, 2016</td>\n",
       "      <td>June 17, 2016</td>\n",
       "    </tr>\n",
       "    <tr>\n",
       "      <th>1</th>\n",
       "      <td>862</td>\n",
       "      <td></td>\n",
       "      <td></td>\n",
       "      <td></td>\n",
       "      <td></td>\n",
       "    </tr>\n",
       "    <tr>\n",
       "      <th>2</th>\n",
       "      <td>2,993,700,000</td>\n",
       "      <td>January 12, 2017</td>\n",
       "      <td>August 4, 2017</td>\n",
       "      <td>206</td>\n",
       "      <td>206</td>\n",
       "    </tr>\n",
       "    <tr>\n",
       "      <th>3</th>\n",
       "      <td>[62]</td>\n",
       "      <td>[B]</td>\n",
       "      <td>\"See You Again\"[18]</td>\n",
       "      <td>Wiz Khalifa</td>\n",
       "      <td>Wiz Khalifa</td>\n",
       "    </tr>\n",
       "    <tr>\n",
       "      <th>4</th>\n",
       "      <td>July 10, 2017</td>\n",
       "      <td>826</td>\n",
       "      <td>25</td>\n",
       "      <td></td>\n",
       "      <td></td>\n",
       "    </tr>\n",
       "    <tr>\n",
       "      <th>5</th>\n",
       "      <td>\"Gangnam Style\"⁂[27]</td>\n",
       "      <td>Psy</td>\n",
       "      <td>803,700,000</td>\n",
       "      <td>July 15, 2012</td>\n",
       "      <td>July 15, 2012</td>\n",
       "    </tr>\n",
       "    <tr>\n",
       "      <th>6</th>\n",
       "      <td>1,689</td>\n",
       "      <td></td>\n",
       "      <td>[28]</td>\n",
       "      <td>[J]</td>\n",
       "      <td>[J]</td>\n",
       "    </tr>\n",
       "    <tr>\n",
       "      <th>7</th>\n",
       "      <td>245,400,000</td>\n",
       "      <td>February 19, 2010</td>\n",
       "      <td>July 16, 2010</td>\n",
       "      <td>149</td>\n",
       "      <td>149</td>\n",
       "    </tr>\n",
       "    <tr>\n",
       "      <th>8</th>\n",
       "      <td>[64]</td>\n",
       "      <td>[L]</td>\n",
       "      <td>\"Bad Romance\"[67]</td>\n",
       "      <td>Lady Gaga</td>\n",
       "      <td>Lady Gaga</td>\n",
       "    </tr>\n",
       "    <tr>\n",
       "      <th>9</th>\n",
       "      <td>April 14, 2010</td>\n",
       "      <td>143</td>\n",
       "      <td>93</td>\n",
       "      <td></td>\n",
       "      <td></td>\n",
       "    </tr>\n",
       "    <tr>\n",
       "      <th>10</th>\n",
       "      <td>\"Charlie Bit My Finger\"‡[71]</td>\n",
       "      <td>HDCYT</td>\n",
       "      <td>128,900,000</td>\n",
       "      <td>May 22, 2007</td>\n",
       "      <td>May 22, 2007</td>\n",
       "    </tr>\n",
       "    <tr>\n",
       "      <th>11</th>\n",
       "      <td>171</td>\n",
       "      <td>late July 2021[72]</td>\n",
       "      <td>[73]</td>\n",
       "      <td></td>\n",
       "      <td></td>\n",
       "    </tr>\n",
       "    <tr>\n",
       "      <th>12</th>\n",
       "      <td>118,900,000</td>\n",
       "      <td>April 6, 2006</td>\n",
       "      <td>May 2, 2009</td>\n",
       "      <td>1062</td>\n",
       "      <td>1062</td>\n",
       "    </tr>\n",
       "    <tr>\n",
       "      <th>13</th>\n",
       "      <td>[75]</td>\n",
       "      <td></td>\n",
       "      <td>\"Girlfriend\"‡[76][77]</td>\n",
       "      <td>RCA Records</td>\n",
       "      <td>RCA Records</td>\n",
       "    </tr>\n",
       "    <tr>\n",
       "      <th>14</th>\n",
       "      <td>July 17, 2008</td>\n",
       "      <td>508</td>\n",
       "      <td>289</td>\n",
       "      <td>no data</td>\n",
       "      <td>no data</td>\n",
       "    </tr>\n",
       "    <tr>\n",
       "      <th>15</th>\n",
       "      <td>\"Evolution of Dance\"[74]</td>\n",
       "      <td>Judson Laipply</td>\n",
       "      <td>78,400,000</td>\n",
       "      <td>April 6, 2006</td>\n",
       "      <td>April 6, 2006</td>\n",
       "    </tr>\n",
       "    <tr>\n",
       "      <th>16</th>\n",
       "      <td>124</td>\n",
       "      <td></td>\n",
       "      <td>[80]</td>\n",
       "      <td></td>\n",
       "      <td></td>\n",
       "    </tr>\n",
       "    <tr>\n",
       "      <th>17</th>\n",
       "      <td>76,600,000</td>\n",
       "      <td>April 9, 2007</td>\n",
       "      <td>March 1, 2008</td>\n",
       "      <td>327</td>\n",
       "      <td>327</td>\n",
       "    </tr>\n",
       "    <tr>\n",
       "      <th>18</th>\n",
       "      <td>[83]</td>\n",
       "      <td>[O]</td>\n",
       "      <td>\"Evolution of Dance\"*[74]</td>\n",
       "      <td>Judson Laipply</td>\n",
       "      <td>Judson Laipply</td>\n",
       "    </tr>\n",
       "    <tr>\n",
       "      <th>19</th>\n",
       "      <td>May 19, 2006</td>\n",
       "      <td>16</td>\n",
       "      <td>652</td>\n",
       "      <td></td>\n",
       "      <td></td>\n",
       "    </tr>\n",
       "    <tr>\n",
       "      <th>20</th>\n",
       "      <td>\"Pokémon Theme Music Video\"‡[87]</td>\n",
       "      <td>Smosh</td>\n",
       "      <td>4,300,000</td>\n",
       "      <td>November 28, 2005</td>\n",
       "      <td>November 28, 2005</td>\n",
       "    </tr>\n",
       "    <tr>\n",
       "      <th>21</th>\n",
       "      <td>68</td>\n",
       "      <td>June 2007[88]</td>\n",
       "      <td>[89]</td>\n",
       "      <td>[Q]</td>\n",
       "      <td>[Q]</td>\n",
       "    </tr>\n",
       "    <tr>\n",
       "      <th>22</th>\n",
       "      <td>2,700,000</td>\n",
       "      <td>January 31, 2006</td>\n",
       "      <td>February 18, 2006</td>\n",
       "      <td>18</td>\n",
       "      <td>18</td>\n",
       "    </tr>\n",
       "    <tr>\n",
       "      <th>23</th>\n",
       "      <td>[95]</td>\n",
       "      <td></td>\n",
       "      <td>\"Phony Photo Booth\"‡[96]</td>\n",
       "      <td>mugenized</td>\n",
       "      <td>mugenized</td>\n",
       "    </tr>\n",
       "    <tr>\n",
       "      <th>24</th>\n",
       "      <td>January 21, 2006</td>\n",
       "      <td>50</td>\n",
       "      <td>28</td>\n",
       "      <td>no data</td>\n",
       "      <td>no data</td>\n",
       "    </tr>\n",
       "    <tr>\n",
       "      <th>25</th>\n",
       "      <td>\"The Chronic of Narnia Rap\"‡[98]</td>\n",
       "      <td>youtubedude</td>\n",
       "      <td>2,300,000</td>\n",
       "      <td>December 18, 2005</td>\n",
       "      <td>December 18, 2005</td>\n",
       "    </tr>\n",
       "    <tr>\n",
       "      <th>26</th>\n",
       "      <td>12</td>\n",
       "      <td>no data</td>\n",
       "      <td>[99]</td>\n",
       "      <td></td>\n",
       "      <td></td>\n",
       "    </tr>\n",
       "    <tr>\n",
       "      <th>27</th>\n",
       "      <td>255,000</td>\n",
       "      <td>October 21, 2005</td>\n",
       "      <td>October 31, 2005</td>\n",
       "      <td>10</td>\n",
       "      <td>10</td>\n",
       "    </tr>\n",
       "    <tr>\n",
       "      <th>28</th>\n",
       "      <td>[101]</td>\n",
       "      <td>[S]</td>\n",
       "      <td>\"I/O Brush\"‡*[103]</td>\n",
       "      <td>larfus</td>\n",
       "      <td>larfus</td>\n",
       "    </tr>\n",
       "    <tr>\n",
       "      <th>29</th>\n",
       "      <td>October 29, 2005</td>\n",
       "      <td>24</td>\n",
       "      <td>2</td>\n",
       "      <td>no data</td>\n",
       "      <td>no data</td>\n",
       "    </tr>\n",
       "    <tr>\n",
       "      <th>30</th>\n",
       "      <td>\"Me at the zoo\"[105]</td>\n",
       "      <td>jawed</td>\n",
       "      <td>1</td>\n",
       "      <td>April 23, 2005</td>\n",
       "      <td>April 23, 2005</td>\n",
       "    </tr>\n",
       "    <tr>\n",
       "      <th>31</th>\n",
       "      <td>189</td>\n",
       "      <td></td>\n",
       "      <td>[106]</td>\n",
       "      <td></td>\n",
       "      <td></td>\n",
       "    </tr>\n",
       "  </tbody>\n",
       "</table>\n",
       "</div>"
      ],
      "text/plain": [
       "                                Rank  \\\n",
       "0              \"Baby Shark Dance\"[4]   \n",
       "1                                862   \n",
       "2                      2,993,700,000   \n",
       "3                               [62]   \n",
       "4                      July 10, 2017   \n",
       "5               \"Gangnam Style\"⁂[27]   \n",
       "6                              1,689   \n",
       "7                        245,400,000   \n",
       "8                               [64]   \n",
       "9                     April 14, 2010   \n",
       "10      \"Charlie Bit My Finger\"‡[71]   \n",
       "11                               171   \n",
       "12                       118,900,000   \n",
       "13                              [75]   \n",
       "14                     July 17, 2008   \n",
       "15          \"Evolution of Dance\"[74]   \n",
       "16                               124   \n",
       "17                        76,600,000   \n",
       "18                              [83]   \n",
       "19                      May 19, 2006   \n",
       "20  \"Pokémon Theme Music Video\"‡[87]   \n",
       "21                                68   \n",
       "22                         2,700,000   \n",
       "23                              [95]   \n",
       "24                  January 21, 2006   \n",
       "25  \"The Chronic of Narnia Rap\"‡[98]   \n",
       "26                                12   \n",
       "27                           255,000   \n",
       "28                             [101]   \n",
       "29                  October 29, 2005   \n",
       "30              \"Me at the zoo\"[105]   \n",
       "31                               189   \n",
       "\n",
       "                                           Name                     Artist  \\\n",
       "0   Pinkfong Baby Shark - Kids' Songs & Stories              7,046,700,000   \n",
       "1                                                                            \n",
       "2                              January 12, 2017             August 4, 2017   \n",
       "3                                           [B]        \"See You Again\"[18]   \n",
       "4                                           826                         25   \n",
       "5                                           Psy                803,700,000   \n",
       "6                                                                     [28]   \n",
       "7                             February 19, 2010              July 16, 2010   \n",
       "8                                           [L]          \"Bad Romance\"[67]   \n",
       "9                                           143                         93   \n",
       "10                                        HDCYT                128,900,000   \n",
       "11                           late July 2021[72]                       [73]   \n",
       "12                                April 6, 2006                May 2, 2009   \n",
       "13                                                   \"Girlfriend\"‡[76][77]   \n",
       "14                                          508                        289   \n",
       "15                               Judson Laipply                 78,400,000   \n",
       "16                                                                    [80]   \n",
       "17                                April 9, 2007              March 1, 2008   \n",
       "18                                          [O]  \"Evolution of Dance\"*[74]   \n",
       "19                                           16                        652   \n",
       "20                                        Smosh                  4,300,000   \n",
       "21                                June 2007[88]                       [89]   \n",
       "22                             January 31, 2006          February 18, 2006   \n",
       "23                                                \"Phony Photo Booth\"‡[96]   \n",
       "24                                           50                         28   \n",
       "25                                  youtubedude                  2,300,000   \n",
       "26                                      no data                       [99]   \n",
       "27                             October 21, 2005           October 31, 2005   \n",
       "28                                          [S]         \"I/O Brush\"‡*[103]   \n",
       "29                                           24                          2   \n",
       "30                                        jawed                          1   \n",
       "31                                                                   [106]   \n",
       "\n",
       "          Upload date              Views  \n",
       "0       June 17, 2016      June 17, 2016  \n",
       "1                                         \n",
       "2                 206                206  \n",
       "3         Wiz Khalifa        Wiz Khalifa  \n",
       "4                                         \n",
       "5       July 15, 2012      July 15, 2012  \n",
       "6                 [J]                [J]  \n",
       "7                 149                149  \n",
       "8           Lady Gaga          Lady Gaga  \n",
       "9                                         \n",
       "10       May 22, 2007       May 22, 2007  \n",
       "11                                        \n",
       "12               1062               1062  \n",
       "13        RCA Records        RCA Records  \n",
       "14            no data            no data  \n",
       "15      April 6, 2006      April 6, 2006  \n",
       "16                                        \n",
       "17                327                327  \n",
       "18     Judson Laipply     Judson Laipply  \n",
       "19                                        \n",
       "20  November 28, 2005  November 28, 2005  \n",
       "21                [Q]                [Q]  \n",
       "22                 18                 18  \n",
       "23          mugenized          mugenized  \n",
       "24            no data            no data  \n",
       "25  December 18, 2005  December 18, 2005  \n",
       "26                                        \n",
       "27                 10                 10  \n",
       "28             larfus             larfus  \n",
       "29            no data            no data  \n",
       "30     April 23, 2005     April 23, 2005  \n",
       "31                                        "
      ]
     },
     "execution_count": 26,
     "metadata": {},
     "output_type": "execute_result"
    }
   ],
   "source": [
    "#creating dataframe\n",
    "df=pd.DataFrame({})\n",
    "df[\"Rank\"]=rank\n",
    "df[\"Name\"]=name\n",
    "df[\"Artist\"]=artist\n",
    "df['Upload date']=upload\n",
    "df['Views']=views\n",
    "df"
   ]
  },
  {
   "cell_type": "markdown",
   "id": "80fa47f9",
   "metadata": {},
   "source": [
    "# 2. Scrape the details team India’s international fixtures from bcci.tv.\n",
    "Url = https://www.bcci.tv/.\n",
    "You need to find following details:\n",
    "A) Match title (I.e. 1\n",
    "st ODI)\n",
    "B) Series\n",
    "C) Place\n",
    "D) Date\n",
    "E) Time"
   ]
  },
  {
   "cell_type": "code",
   "execution_count": 27,
   "id": "90fbc68c",
   "metadata": {},
   "outputs": [
    {
     "name": "stderr",
     "output_type": "stream",
     "text": [
      "C:\\Users\\dell\\AppData\\Local\\Temp\\ipykernel_17372\\3160767532.py:1: DeprecationWarning: executable_path has been deprecated, please pass in a Service object\n",
      "  driver = webdriver.Chrome(r'chromedriver.exe')  # Optional argument, if not specified will search path.\n"
     ]
    }
   ],
   "source": [
    "driver = webdriver.Chrome(r'chromedriver.exe')  # Optional argument, if not specified will search path.\n",
    "driver.get('  https://www.bcci.tv/ ');\n",
    "time.sleep(5)"
   ]
  },
  {
   "cell_type": "code",
   "execution_count": 28,
   "id": "680ceb11",
   "metadata": {},
   "outputs": [],
   "source": [
    "#Clicking international fixture section\n",
    "\n",
    "try:\n",
    "        international=driver.find_element(By.XPATH,'//ul[@class=\"navigation__list showMoreEnabled\"]/li[1]/div[2]/div/ul/li[1]/a')\n",
    "        driver.get(international.get_attribute('href'))\n",
    "except NoSuchElementException:\n",
    "       pass"
   ]
  },
  {
   "cell_type": "code",
   "execution_count": 29,
   "id": "d916f2c2",
   "metadata": {},
   "outputs": [],
   "source": [
    "Match = [] #Creating Variable Match title to collect the title of the match i.e. Test or ODI.\n",
    "Series = [] #Creating Variable Series to collect the Series name. \n",
    "Place = [] #Creating variable Place to collect the Match venue.\n",
    "Date = [] #Creating Variable Date to collect the venue Date.\n",
    "Time = [] #Creating Variable Time to collect the venue Time.\n",
    "details = [] #Creating a Dummy variable Details to collect the Date and time details"
   ]
  },
  {
   "cell_type": "code",
   "execution_count": 30,
   "id": "1b1c7e25",
   "metadata": {},
   "outputs": [],
   "source": [
    "#Scrapping the data having the match name\n",
    "name=driver.find_elements(By.XPATH,'//strong[@class=\"fixture__name fixture__name--with-margin\"]')\n",
    "for i in name:\n",
    "    Match.append(i.text)\n",
    "\n",
    "#Scrapping the data having the series name\n",
    "series=driver.find_elements(By.XPATH,'//div[@class=\"fixture__format-strip\"]/span[2]')\n",
    "for i in series:\n",
    "    Series.append(i.text)\n",
    "    \n",
    "#Scrapping the data having the place of match\n",
    "place=driver.find_elements(By.XPATH,'//p[@class=\"fixture__additional-info\"]/span')\n",
    "for i in place:\n",
    "    Place.append(i.text)\n",
    "    \n",
    "#Scrapping the data having the match date\n",
    "date=driver.find_elements(By.XPATH,'//div[@class=\"fixture__datetime desktop-only\"]/div/span')  #Only date\n",
    "month=driver.find_elements(By.XPATH,'//div[@class=\"fixture__datetime desktop-only\"]/div/div/span[1]')  #Month\n",
    "for i in range(len(date)):\n",
    "    Date.append(date[i].text + month[i].text)  #Appending date and month texts together\n",
    "    \n",
    "#Scrapping the data having match time\n",
    "time=driver.find_elements(By.XPATH,'//div[@class=\"fixture__full-date\"]/div/span[2]')\n",
    "for i in time:\n",
    "    Time.append(i.text)"
   ]
  },
  {
   "cell_type": "code",
   "execution_count": 31,
   "id": "684afc0c",
   "metadata": {},
   "outputs": [
    {
     "name": "stdout",
     "output_type": "stream",
     "text": [
      "0 0 0 0 0\n"
     ]
    }
   ],
   "source": [
    "#Checking the length of scrapped data\n",
    "print(len(Match),len(Series),len(Place),len(Date),len(Time))"
   ]
  },
  {
   "cell_type": "code",
   "execution_count": 32,
   "id": "9993dcd2",
   "metadata": {},
   "outputs": [
    {
     "data": {
      "text/html": [
       "<div>\n",
       "<style scoped>\n",
       "    .dataframe tbody tr th:only-of-type {\n",
       "        vertical-align: middle;\n",
       "    }\n",
       "\n",
       "    .dataframe tbody tr th {\n",
       "        vertical-align: top;\n",
       "    }\n",
       "\n",
       "    .dataframe thead th {\n",
       "        text-align: right;\n",
       "    }\n",
       "</style>\n",
       "<table border=\"1\" class=\"dataframe\">\n",
       "  <thead>\n",
       "    <tr style=\"text-align: right;\">\n",
       "      <th></th>\n",
       "      <th>Match name</th>\n",
       "      <th>Series</th>\n",
       "      <th>Place</th>\n",
       "      <th>Date</th>\n",
       "      <th>Time</th>\n",
       "    </tr>\n",
       "  </thead>\n",
       "  <tbody>\n",
       "  </tbody>\n",
       "</table>\n",
       "</div>"
      ],
      "text/plain": [
       "Empty DataFrame\n",
       "Columns: [Match name, Series, Place, Date, Time]\n",
       "Index: []"
      ]
     },
     "execution_count": 32,
     "metadata": {},
     "output_type": "execute_result"
    }
   ],
   "source": [
    "#Creating a Dataframe for the scrapped data\n",
    "fixtures=pd.DataFrame({})\n",
    "fixtures['Match name']=Match\n",
    "fixtures['Series']=Series\n",
    "fixtures['Place']=Place\n",
    "fixtures['Date']=Date\n",
    "fixtures['Time']=Time\n",
    "fixtures"
   ]
  },
  {
   "cell_type": "markdown",
   "id": "24af500c",
   "metadata": {},
   "source": [
    "# 3.Scrape the details of State-wise GDP of India from statisticstime.com. Url = http://statisticstimes.com/ You have to find following details: A) Rank B) State C) GSDP(18-19) D) GSDP(17-18) E) Share(2017) F) GDP($ billion"
   ]
  },
  {
   "cell_type": "code",
   "execution_count": 37,
   "id": "8bce30a0",
   "metadata": {},
   "outputs": [
    {
     "name": "stderr",
     "output_type": "stream",
     "text": [
      "C:\\Users\\dell\\AppData\\Local\\Temp\\ipykernel_17372\\1860506408.py:1: DeprecationWarning: executable_path has been deprecated, please pass in a Service object\n",
      "  driver = webdriver.Chrome(r'chromedriver.exe')  # Optional argument, if not specified will search path.\n"
     ]
    },
    {
     "ename": "TimeoutException",
     "evalue": "Message: timeout: Timed out receiving message from renderer: 292.868\n  (Session info: chrome=111.0.5563.65)\nStacktrace:\nBacktrace:\n\t(No symbol) [0x0093DCE3]\n\t(No symbol) [0x008D39D1]\n\t(No symbol) [0x007E4DA8]\n\t(No symbol) [0x007D80AF]\n\t(No symbol) [0x007D7EFC]\n\t(No symbol) [0x007D6BF6]\n\t(No symbol) [0x007D747A]\n\t(No symbol) [0x007DFF62]\n\t(No symbol) [0x007EA348]\n\t(No symbol) [0x007ECD46]\n\t(No symbol) [0x007D77D3]\n\t(No symbol) [0x007EA211]\n\t(No symbol) [0x0083D779]\n\t(No symbol) [0x0082ACC6]\n\t(No symbol) [0x00806F68]\n\t(No symbol) [0x008080CD]\n\tGetHandleVerifier [0x00BB3832+2506274]\n\tGetHandleVerifier [0x00BE9794+2727300]\n\tGetHandleVerifier [0x00BEE36C+2746716]\n\tGetHandleVerifier [0x009E6690+617600]\n\t(No symbol) [0x008DC712]\n\t(No symbol) [0x008E1FF8]\n\t(No symbol) [0x008E20DB]\n\t(No symbol) [0x008EC63B]\n\tBaseThreadInitThunk [0x771100F9+25]\n\tRtlGetAppContainerNamedObjectPath [0x77AA7BBE+286]\n\tRtlGetAppContainerNamedObjectPath [0x77AA7B8E+238]\n",
     "output_type": "error",
     "traceback": [
      "\u001b[1;31m---------------------------------------------------------------------------\u001b[0m",
      "\u001b[1;31mTimeoutException\u001b[0m                          Traceback (most recent call last)",
      "\u001b[1;32m~\\AppData\\Local\\Temp\\ipykernel_17372\\1860506408.py\u001b[0m in \u001b[0;36m<module>\u001b[1;34m\u001b[0m\n\u001b[0;32m      1\u001b[0m \u001b[0mdriver\u001b[0m \u001b[1;33m=\u001b[0m \u001b[0mwebdriver\u001b[0m\u001b[1;33m.\u001b[0m\u001b[0mChrome\u001b[0m\u001b[1;33m(\u001b[0m\u001b[1;34mr'chromedriver.exe'\u001b[0m\u001b[1;33m)\u001b[0m  \u001b[1;31m# Optional argument, if not specified will search path.\u001b[0m\u001b[1;33m\u001b[0m\u001b[1;33m\u001b[0m\u001b[0m\n\u001b[1;32m----> 2\u001b[1;33m \u001b[0mdriver\u001b[0m\u001b[1;33m.\u001b[0m\u001b[0mget\u001b[0m\u001b[1;33m(\u001b[0m\u001b[1;34m' http://statisticstimes.com/  '\u001b[0m\u001b[1;33m)\u001b[0m\u001b[1;33m;\u001b[0m\u001b[1;33m\u001b[0m\u001b[1;33m\u001b[0m\u001b[0m\n\u001b[0m",
      "\u001b[1;32m~\\anaconda3\\lib\\site-packages\\selenium\\webdriver\\remote\\webdriver.py\u001b[0m in \u001b[0;36mget\u001b[1;34m(self, url)\u001b[0m\n\u001b[0;32m    447\u001b[0m     \u001b[1;32mdef\u001b[0m \u001b[0mget\u001b[0m\u001b[1;33m(\u001b[0m\u001b[0mself\u001b[0m\u001b[1;33m,\u001b[0m \u001b[0murl\u001b[0m\u001b[1;33m:\u001b[0m \u001b[0mstr\u001b[0m\u001b[1;33m)\u001b[0m \u001b[1;33m->\u001b[0m \u001b[1;32mNone\u001b[0m\u001b[1;33m:\u001b[0m\u001b[1;33m\u001b[0m\u001b[1;33m\u001b[0m\u001b[0m\n\u001b[0;32m    448\u001b[0m         \u001b[1;34m\"\"\"Loads a web page in the current browser session.\"\"\"\u001b[0m\u001b[1;33m\u001b[0m\u001b[1;33m\u001b[0m\u001b[0m\n\u001b[1;32m--> 449\u001b[1;33m         \u001b[0mself\u001b[0m\u001b[1;33m.\u001b[0m\u001b[0mexecute\u001b[0m\u001b[1;33m(\u001b[0m\u001b[0mCommand\u001b[0m\u001b[1;33m.\u001b[0m\u001b[0mGET\u001b[0m\u001b[1;33m,\u001b[0m \u001b[1;33m{\u001b[0m\u001b[1;34m\"url\"\u001b[0m\u001b[1;33m:\u001b[0m \u001b[0murl\u001b[0m\u001b[1;33m}\u001b[0m\u001b[1;33m)\u001b[0m\u001b[1;33m\u001b[0m\u001b[1;33m\u001b[0m\u001b[0m\n\u001b[0m\u001b[0;32m    450\u001b[0m \u001b[1;33m\u001b[0m\u001b[0m\n\u001b[0;32m    451\u001b[0m     \u001b[1;33m@\u001b[0m\u001b[0mproperty\u001b[0m\u001b[1;33m\u001b[0m\u001b[1;33m\u001b[0m\u001b[0m\n",
      "\u001b[1;32m~\\anaconda3\\lib\\site-packages\\selenium\\webdriver\\remote\\webdriver.py\u001b[0m in \u001b[0;36mexecute\u001b[1;34m(self, driver_command, params)\u001b[0m\n\u001b[0;32m    438\u001b[0m         \u001b[0mresponse\u001b[0m \u001b[1;33m=\u001b[0m \u001b[0mself\u001b[0m\u001b[1;33m.\u001b[0m\u001b[0mcommand_executor\u001b[0m\u001b[1;33m.\u001b[0m\u001b[0mexecute\u001b[0m\u001b[1;33m(\u001b[0m\u001b[0mdriver_command\u001b[0m\u001b[1;33m,\u001b[0m \u001b[0mparams\u001b[0m\u001b[1;33m)\u001b[0m\u001b[1;33m\u001b[0m\u001b[1;33m\u001b[0m\u001b[0m\n\u001b[0;32m    439\u001b[0m         \u001b[1;32mif\u001b[0m \u001b[0mresponse\u001b[0m\u001b[1;33m:\u001b[0m\u001b[1;33m\u001b[0m\u001b[1;33m\u001b[0m\u001b[0m\n\u001b[1;32m--> 440\u001b[1;33m             \u001b[0mself\u001b[0m\u001b[1;33m.\u001b[0m\u001b[0merror_handler\u001b[0m\u001b[1;33m.\u001b[0m\u001b[0mcheck_response\u001b[0m\u001b[1;33m(\u001b[0m\u001b[0mresponse\u001b[0m\u001b[1;33m)\u001b[0m\u001b[1;33m\u001b[0m\u001b[1;33m\u001b[0m\u001b[0m\n\u001b[0m\u001b[0;32m    441\u001b[0m             \u001b[0mresponse\u001b[0m\u001b[1;33m[\u001b[0m\u001b[1;34m\"value\"\u001b[0m\u001b[1;33m]\u001b[0m \u001b[1;33m=\u001b[0m \u001b[0mself\u001b[0m\u001b[1;33m.\u001b[0m\u001b[0m_unwrap_value\u001b[0m\u001b[1;33m(\u001b[0m\u001b[0mresponse\u001b[0m\u001b[1;33m.\u001b[0m\u001b[0mget\u001b[0m\u001b[1;33m(\u001b[0m\u001b[1;34m\"value\"\u001b[0m\u001b[1;33m,\u001b[0m \u001b[1;32mNone\u001b[0m\u001b[1;33m)\u001b[0m\u001b[1;33m)\u001b[0m\u001b[1;33m\u001b[0m\u001b[1;33m\u001b[0m\u001b[0m\n\u001b[0;32m    442\u001b[0m             \u001b[1;32mreturn\u001b[0m \u001b[0mresponse\u001b[0m\u001b[1;33m\u001b[0m\u001b[1;33m\u001b[0m\u001b[0m\n",
      "\u001b[1;32m~\\anaconda3\\lib\\site-packages\\selenium\\webdriver\\remote\\errorhandler.py\u001b[0m in \u001b[0;36mcheck_response\u001b[1;34m(self, response)\u001b[0m\n\u001b[0;32m    243\u001b[0m                 \u001b[0malert_text\u001b[0m \u001b[1;33m=\u001b[0m \u001b[0mvalue\u001b[0m\u001b[1;33m[\u001b[0m\u001b[1;34m\"alert\"\u001b[0m\u001b[1;33m]\u001b[0m\u001b[1;33m.\u001b[0m\u001b[0mget\u001b[0m\u001b[1;33m(\u001b[0m\u001b[1;34m\"text\"\u001b[0m\u001b[1;33m)\u001b[0m\u001b[1;33m\u001b[0m\u001b[1;33m\u001b[0m\u001b[0m\n\u001b[0;32m    244\u001b[0m             \u001b[1;32mraise\u001b[0m \u001b[0mexception_class\u001b[0m\u001b[1;33m(\u001b[0m\u001b[0mmessage\u001b[0m\u001b[1;33m,\u001b[0m \u001b[0mscreen\u001b[0m\u001b[1;33m,\u001b[0m \u001b[0mstacktrace\u001b[0m\u001b[1;33m,\u001b[0m \u001b[0malert_text\u001b[0m\u001b[1;33m)\u001b[0m  \u001b[1;31m# type: ignore[call-arg]  # mypy is not smart enough here\u001b[0m\u001b[1;33m\u001b[0m\u001b[1;33m\u001b[0m\u001b[0m\n\u001b[1;32m--> 245\u001b[1;33m         \u001b[1;32mraise\u001b[0m \u001b[0mexception_class\u001b[0m\u001b[1;33m(\u001b[0m\u001b[0mmessage\u001b[0m\u001b[1;33m,\u001b[0m \u001b[0mscreen\u001b[0m\u001b[1;33m,\u001b[0m \u001b[0mstacktrace\u001b[0m\u001b[1;33m)\u001b[0m\u001b[1;33m\u001b[0m\u001b[1;33m\u001b[0m\u001b[0m\n\u001b[0m",
      "\u001b[1;31mTimeoutException\u001b[0m: Message: timeout: Timed out receiving message from renderer: 292.868\n  (Session info: chrome=111.0.5563.65)\nStacktrace:\nBacktrace:\n\t(No symbol) [0x0093DCE3]\n\t(No symbol) [0x008D39D1]\n\t(No symbol) [0x007E4DA8]\n\t(No symbol) [0x007D80AF]\n\t(No symbol) [0x007D7EFC]\n\t(No symbol) [0x007D6BF6]\n\t(No symbol) [0x007D747A]\n\t(No symbol) [0x007DFF62]\n\t(No symbol) [0x007EA348]\n\t(No symbol) [0x007ECD46]\n\t(No symbol) [0x007D77D3]\n\t(No symbol) [0x007EA211]\n\t(No symbol) [0x0083D779]\n\t(No symbol) [0x0082ACC6]\n\t(No symbol) [0x00806F68]\n\t(No symbol) [0x008080CD]\n\tGetHandleVerifier [0x00BB3832+2506274]\n\tGetHandleVerifier [0x00BE9794+2727300]\n\tGetHandleVerifier [0x00BEE36C+2746716]\n\tGetHandleVerifier [0x009E6690+617600]\n\t(No symbol) [0x008DC712]\n\t(No symbol) [0x008E1FF8]\n\t(No symbol) [0x008E20DB]\n\t(No symbol) [0x008EC63B]\n\tBaseThreadInitThunk [0x771100F9+25]\n\tRtlGetAppContainerNamedObjectPath [0x77AA7BBE+286]\n\tRtlGetAppContainerNamedObjectPath [0x77AA7B8E+238]\n"
     ]
    }
   ],
   "source": [
    "driver = webdriver.Chrome(r'chromedriver.exe')  # Optional argument, if not specified will search path.\n",
    "driver.get(' http://statisticstimes.com/  ');"
   ]
  },
  {
   "cell_type": "code",
   "execution_count": null,
   "id": "c535eeb2",
   "metadata": {},
   "outputs": [],
   "source": [
    "#Clicking the economy tab and then India option\n",
    "economy=driver.find_element(By.XPATH,'//div[@class=\"navbar\"]/div[2]/div/a[3]')\n",
    "try:\n",
    "    economy.click()\n",
    "except ElementNotInteractableException:\n",
    "    driver.get(economy.get_attribute('href'))"
   ]
  },
  {
   "cell_type": "code",
   "execution_count": null,
   "id": "db3dfe8e",
   "metadata": {},
   "outputs": [],
   "source": [
    "#Clicking on GDP of Indian states option\n",
    "gdp=driver.find_element(By.XPATH,'//div[@style=\"float:left;background-color:seashell;width:400px;height:800px;\"]/ul/li[1]')\n",
    "try:\n",
    "    gdp.click()\n",
    "except ElementNotInteractableException:\n",
    "    driver.get(gdp.get_attribute('href'))  "
   ]
  },
  {
   "cell_type": "code",
   "execution_count": null,
   "id": "15af7203",
   "metadata": {},
   "outputs": [],
   "source": [
    "#Creating empty lists for storing the scrapped data\n",
    "Rank=[]\n",
    "State=[]\n",
    "GSDP19_20=[]\n",
    "GSDP18_19=[]\n",
    "Share18_19=[]\n",
    "GDP=[]\n",
    "\n",
    "#Scrapping the data having rank of the rank\n",
    "rank=driver.find_elements(By.XPATH,'//table[@class=\"display dataTable\"]/tbody/tr/td[1]')\n",
    "for i in rank:\n",
    "    Rank.append(i.text)\n",
    "    \n",
    "    \n",
    "   #Scrapping the data having rank of the state\n",
    "state=driver.find_elements(By.XPATH,'//table[@class=\"display dataTable\"]/tbody/tr/td[2]')\n",
    "for i in state:\n",
    "    State.append(i.text) \n",
    "    \n",
    "  #Scrapping the data having rank of the GSDP19_20\n",
    "gs19=driver.find_elements(By.XPATH,'//table[@class=\"display dataTable\"]/tbody/tr/td[3]')\n",
    "for i in gs19:\n",
    "    GSDP19_20.append(i.text)\n",
    "    \n",
    "    #Scrapping the data having rank of the  GSDP18_19\n",
    "gs18=driver.find_elements(By.XPATH,'//table[@class=\"display dataTable\"]/tbody/tr/td[4]')\n",
    "for i in gs18:\n",
    "    GSDP18_19.append(i.text)\n",
    "    \n",
    "    #Scrapping the data having rank of the share18_19\n",
    "share=driver.find_elements(By.XPATH,'//table[@class=\"display dataTable\"]/tbody/tr/td[5]')\n",
    "for i in share:\n",
    "    Share18_19.append(i.text)\n",
    "    \n",
    "    #Scrapping the data having rank of the GDP\n",
    "gd=driver.find_elements(By.XPATH,'//table[@class=\"display dataTable\"]/tbody/tr/td[6]')\n",
    "for i in gd:\n",
    "    GDP.append(i.text)"
   ]
  },
  {
   "cell_type": "code",
   "execution_count": null,
   "id": "16e89635",
   "metadata": {},
   "outputs": [],
   "source": [
    "print(len(Rank),len(State),len(GSDP19_20),len(GSDP18_19),len(Share18_19),len(GDP))"
   ]
  },
  {
   "cell_type": "code",
   "execution_count": null,
   "id": "755d89bd",
   "metadata": {},
   "outputs": [],
   "source": [
    "gdsp=pd.DataFrame({'Rank':Rank,'State':State,'GSDP(19-20)':GSDP19_20,'GSDP(18-19)':GSDP18_19,'Share(18-19)':Share18_19,\n",
    "                      'GDP($ billion)':GDP})\n",
    "gdsp"
   ]
  },
  {
   "cell_type": "markdown",
   "id": "1d8009ea",
   "metadata": {},
   "source": [
    "# 4.Scrape the details of trending repositories on Github.com. Url = https://github.com/ You have to find the following details: A) Repository title B) Repository description C) Contributors count D) Language used"
   ]
  },
  {
   "cell_type": "code",
   "execution_count": 39,
   "id": "10e7e23d",
   "metadata": {},
   "outputs": [
    {
     "name": "stderr",
     "output_type": "stream",
     "text": [
      "C:\\Users\\dell\\AppData\\Local\\Temp\\ipykernel_17372\\1003767959.py:1: DeprecationWarning: executable_path has been deprecated, please pass in a Service object\n",
      "  driver = webdriver.Chrome(r'chromedriver.exe')  # Optional argument, if not specified will search path.\n"
     ]
    }
   ],
   "source": [
    "driver = webdriver.Chrome(r'chromedriver.exe')  # Optional argument, if not specified will search path.\n",
    "driver.get(' http://github.com/  ');"
   ]
  },
  {
   "cell_type": "code",
   "execution_count": 40,
   "id": "f89df0ec",
   "metadata": {},
   "outputs": [
    {
     "ename": "NoSuchElementException",
     "evalue": "Message: no such element: Unable to locate element: {\"method\":\"xpath\",\"selector\":\"/html/body/div[1]/header/div/div[2]/nav/ul/li[4]/details/div/ul[2]/li[3]/a\"}\n  (Session info: chrome=111.0.5563.65)\nStacktrace:\nBacktrace:\n\t(No symbol) [0x0093DCE3]\n\t(No symbol) [0x008D39D1]\n\t(No symbol) [0x007E4DA8]\n\t(No symbol) [0x0081019F]\n\t(No symbol) [0x008103AB]\n\t(No symbol) [0x0083EE62]\n\t(No symbol) [0x0082AF14]\n\t(No symbol) [0x0083D57C]\n\t(No symbol) [0x0082ACC6]\n\t(No symbol) [0x00806F68]\n\t(No symbol) [0x008080CD]\n\tGetHandleVerifier [0x00BB3832+2506274]\n\tGetHandleVerifier [0x00BE9794+2727300]\n\tGetHandleVerifier [0x00BEE36C+2746716]\n\tGetHandleVerifier [0x009E6690+617600]\n\t(No symbol) [0x008DC712]\n\t(No symbol) [0x008E1FF8]\n\t(No symbol) [0x008E20DB]\n\t(No symbol) [0x008EC63B]\n\tBaseThreadInitThunk [0x771100F9+25]\n\tRtlGetAppContainerNamedObjectPath [0x77AA7BBE+286]\n\tRtlGetAppContainerNamedObjectPath [0x77AA7B8E+238]\n",
     "output_type": "error",
     "traceback": [
      "\u001b[1;31m---------------------------------------------------------------------------\u001b[0m",
      "\u001b[1;31mNoSuchElementException\u001b[0m                    Traceback (most recent call last)",
      "\u001b[1;32m~\\AppData\\Local\\Temp\\ipykernel_17372\\655620112.py\u001b[0m in \u001b[0;36m<module>\u001b[1;34m\u001b[0m\n\u001b[0;32m      1\u001b[0m \u001b[1;31m#Clicking explore tab and trending option using exception\u001b[0m\u001b[1;33m\u001b[0m\u001b[1;33m\u001b[0m\u001b[0m\n\u001b[1;32m----> 2\u001b[1;33m \u001b[0mtrending\u001b[0m\u001b[1;33m=\u001b[0m\u001b[0mdriver\u001b[0m\u001b[1;33m.\u001b[0m\u001b[0mfind_element\u001b[0m\u001b[1;33m(\u001b[0m\u001b[0mBy\u001b[0m\u001b[1;33m.\u001b[0m\u001b[0mXPATH\u001b[0m\u001b[1;33m,\u001b[0m\u001b[1;34m\"/html/body/div[1]/header/div/div[2]/nav/ul/li[4]/details/div/ul[2]/li[3]/a\"\u001b[0m\u001b[1;33m)\u001b[0m\u001b[1;33m\u001b[0m\u001b[1;33m\u001b[0m\u001b[0m\n\u001b[0m\u001b[0;32m      3\u001b[0m \u001b[1;32mtry\u001b[0m\u001b[1;33m:\u001b[0m\u001b[1;33m\u001b[0m\u001b[1;33m\u001b[0m\u001b[0m\n\u001b[0;32m      4\u001b[0m     \u001b[0mtrending\u001b[0m\u001b[1;33m.\u001b[0m\u001b[0mclick\u001b[0m\u001b[1;33m(\u001b[0m\u001b[1;33m)\u001b[0m\u001b[1;33m\u001b[0m\u001b[1;33m\u001b[0m\u001b[0m\n\u001b[0;32m      5\u001b[0m \u001b[1;32mexcept\u001b[0m \u001b[0mNoSuchElementException\u001b[0m\u001b[1;33m:\u001b[0m\u001b[1;33m\u001b[0m\u001b[1;33m\u001b[0m\u001b[0m\n",
      "\u001b[1;32m~\\anaconda3\\lib\\site-packages\\selenium\\webdriver\\remote\\webdriver.py\u001b[0m in \u001b[0;36mfind_element\u001b[1;34m(self, by, value)\u001b[0m\n\u001b[0;32m    828\u001b[0m             \u001b[0mvalue\u001b[0m \u001b[1;33m=\u001b[0m \u001b[1;34mf'[name=\"{value}\"]'\u001b[0m\u001b[1;33m\u001b[0m\u001b[1;33m\u001b[0m\u001b[0m\n\u001b[0;32m    829\u001b[0m \u001b[1;33m\u001b[0m\u001b[0m\n\u001b[1;32m--> 830\u001b[1;33m         \u001b[1;32mreturn\u001b[0m \u001b[0mself\u001b[0m\u001b[1;33m.\u001b[0m\u001b[0mexecute\u001b[0m\u001b[1;33m(\u001b[0m\u001b[0mCommand\u001b[0m\u001b[1;33m.\u001b[0m\u001b[0mFIND_ELEMENT\u001b[0m\u001b[1;33m,\u001b[0m \u001b[1;33m{\u001b[0m\u001b[1;34m\"using\"\u001b[0m\u001b[1;33m:\u001b[0m \u001b[0mby\u001b[0m\u001b[1;33m,\u001b[0m \u001b[1;34m\"value\"\u001b[0m\u001b[1;33m:\u001b[0m \u001b[0mvalue\u001b[0m\u001b[1;33m}\u001b[0m\u001b[1;33m)\u001b[0m\u001b[1;33m[\u001b[0m\u001b[1;34m\"value\"\u001b[0m\u001b[1;33m]\u001b[0m\u001b[1;33m\u001b[0m\u001b[1;33m\u001b[0m\u001b[0m\n\u001b[0m\u001b[0;32m    831\u001b[0m \u001b[1;33m\u001b[0m\u001b[0m\n\u001b[0;32m    832\u001b[0m     \u001b[1;32mdef\u001b[0m \u001b[0mfind_elements\u001b[0m\u001b[1;33m(\u001b[0m\u001b[0mself\u001b[0m\u001b[1;33m,\u001b[0m \u001b[0mby\u001b[0m\u001b[1;33m=\u001b[0m\u001b[0mBy\u001b[0m\u001b[1;33m.\u001b[0m\u001b[0mID\u001b[0m\u001b[1;33m,\u001b[0m \u001b[0mvalue\u001b[0m\u001b[1;33m:\u001b[0m \u001b[0mOptional\u001b[0m\u001b[1;33m[\u001b[0m\u001b[0mstr\u001b[0m\u001b[1;33m]\u001b[0m \u001b[1;33m=\u001b[0m \u001b[1;32mNone\u001b[0m\u001b[1;33m)\u001b[0m \u001b[1;33m->\u001b[0m \u001b[0mList\u001b[0m\u001b[1;33m[\u001b[0m\u001b[0mWebElement\u001b[0m\u001b[1;33m]\u001b[0m\u001b[1;33m:\u001b[0m\u001b[1;33m\u001b[0m\u001b[1;33m\u001b[0m\u001b[0m\n",
      "\u001b[1;32m~\\anaconda3\\lib\\site-packages\\selenium\\webdriver\\remote\\webdriver.py\u001b[0m in \u001b[0;36mexecute\u001b[1;34m(self, driver_command, params)\u001b[0m\n\u001b[0;32m    438\u001b[0m         \u001b[0mresponse\u001b[0m \u001b[1;33m=\u001b[0m \u001b[0mself\u001b[0m\u001b[1;33m.\u001b[0m\u001b[0mcommand_executor\u001b[0m\u001b[1;33m.\u001b[0m\u001b[0mexecute\u001b[0m\u001b[1;33m(\u001b[0m\u001b[0mdriver_command\u001b[0m\u001b[1;33m,\u001b[0m \u001b[0mparams\u001b[0m\u001b[1;33m)\u001b[0m\u001b[1;33m\u001b[0m\u001b[1;33m\u001b[0m\u001b[0m\n\u001b[0;32m    439\u001b[0m         \u001b[1;32mif\u001b[0m \u001b[0mresponse\u001b[0m\u001b[1;33m:\u001b[0m\u001b[1;33m\u001b[0m\u001b[1;33m\u001b[0m\u001b[0m\n\u001b[1;32m--> 440\u001b[1;33m             \u001b[0mself\u001b[0m\u001b[1;33m.\u001b[0m\u001b[0merror_handler\u001b[0m\u001b[1;33m.\u001b[0m\u001b[0mcheck_response\u001b[0m\u001b[1;33m(\u001b[0m\u001b[0mresponse\u001b[0m\u001b[1;33m)\u001b[0m\u001b[1;33m\u001b[0m\u001b[1;33m\u001b[0m\u001b[0m\n\u001b[0m\u001b[0;32m    441\u001b[0m             \u001b[0mresponse\u001b[0m\u001b[1;33m[\u001b[0m\u001b[1;34m\"value\"\u001b[0m\u001b[1;33m]\u001b[0m \u001b[1;33m=\u001b[0m \u001b[0mself\u001b[0m\u001b[1;33m.\u001b[0m\u001b[0m_unwrap_value\u001b[0m\u001b[1;33m(\u001b[0m\u001b[0mresponse\u001b[0m\u001b[1;33m.\u001b[0m\u001b[0mget\u001b[0m\u001b[1;33m(\u001b[0m\u001b[1;34m\"value\"\u001b[0m\u001b[1;33m,\u001b[0m \u001b[1;32mNone\u001b[0m\u001b[1;33m)\u001b[0m\u001b[1;33m)\u001b[0m\u001b[1;33m\u001b[0m\u001b[1;33m\u001b[0m\u001b[0m\n\u001b[0;32m    442\u001b[0m             \u001b[1;32mreturn\u001b[0m \u001b[0mresponse\u001b[0m\u001b[1;33m\u001b[0m\u001b[1;33m\u001b[0m\u001b[0m\n",
      "\u001b[1;32m~\\anaconda3\\lib\\site-packages\\selenium\\webdriver\\remote\\errorhandler.py\u001b[0m in \u001b[0;36mcheck_response\u001b[1;34m(self, response)\u001b[0m\n\u001b[0;32m    243\u001b[0m                 \u001b[0malert_text\u001b[0m \u001b[1;33m=\u001b[0m \u001b[0mvalue\u001b[0m\u001b[1;33m[\u001b[0m\u001b[1;34m\"alert\"\u001b[0m\u001b[1;33m]\u001b[0m\u001b[1;33m.\u001b[0m\u001b[0mget\u001b[0m\u001b[1;33m(\u001b[0m\u001b[1;34m\"text\"\u001b[0m\u001b[1;33m)\u001b[0m\u001b[1;33m\u001b[0m\u001b[1;33m\u001b[0m\u001b[0m\n\u001b[0;32m    244\u001b[0m             \u001b[1;32mraise\u001b[0m \u001b[0mexception_class\u001b[0m\u001b[1;33m(\u001b[0m\u001b[0mmessage\u001b[0m\u001b[1;33m,\u001b[0m \u001b[0mscreen\u001b[0m\u001b[1;33m,\u001b[0m \u001b[0mstacktrace\u001b[0m\u001b[1;33m,\u001b[0m \u001b[0malert_text\u001b[0m\u001b[1;33m)\u001b[0m  \u001b[1;31m# type: ignore[call-arg]  # mypy is not smart enough here\u001b[0m\u001b[1;33m\u001b[0m\u001b[1;33m\u001b[0m\u001b[0m\n\u001b[1;32m--> 245\u001b[1;33m         \u001b[1;32mraise\u001b[0m \u001b[0mexception_class\u001b[0m\u001b[1;33m(\u001b[0m\u001b[0mmessage\u001b[0m\u001b[1;33m,\u001b[0m \u001b[0mscreen\u001b[0m\u001b[1;33m,\u001b[0m \u001b[0mstacktrace\u001b[0m\u001b[1;33m)\u001b[0m\u001b[1;33m\u001b[0m\u001b[1;33m\u001b[0m\u001b[0m\n\u001b[0m",
      "\u001b[1;31mNoSuchElementException\u001b[0m: Message: no such element: Unable to locate element: {\"method\":\"xpath\",\"selector\":\"/html/body/div[1]/header/div/div[2]/nav/ul/li[4]/details/div/ul[2]/li[3]/a\"}\n  (Session info: chrome=111.0.5563.65)\nStacktrace:\nBacktrace:\n\t(No symbol) [0x0093DCE3]\n\t(No symbol) [0x008D39D1]\n\t(No symbol) [0x007E4DA8]\n\t(No symbol) [0x0081019F]\n\t(No symbol) [0x008103AB]\n\t(No symbol) [0x0083EE62]\n\t(No symbol) [0x0082AF14]\n\t(No symbol) [0x0083D57C]\n\t(No symbol) [0x0082ACC6]\n\t(No symbol) [0x00806F68]\n\t(No symbol) [0x008080CD]\n\tGetHandleVerifier [0x00BB3832+2506274]\n\tGetHandleVerifier [0x00BE9794+2727300]\n\tGetHandleVerifier [0x00BEE36C+2746716]\n\tGetHandleVerifier [0x009E6690+617600]\n\t(No symbol) [0x008DC712]\n\t(No symbol) [0x008E1FF8]\n\t(No symbol) [0x008E20DB]\n\t(No symbol) [0x008EC63B]\n\tBaseThreadInitThunk [0x771100F9+25]\n\tRtlGetAppContainerNamedObjectPath [0x77AA7BBE+286]\n\tRtlGetAppContainerNamedObjectPath [0x77AA7B8E+238]\n"
     ]
    }
   ],
   "source": [
    "#Clicking explore tab and trending option using exception\n",
    "trending=driver.find_element(By.XPATH,\"/html/body/div[1]/header/div/div[2]/nav/ul/li[4]/details/div/ul[2]/li[3]/a\")\n",
    "try:\n",
    "    trending.click()\n",
    "except NoSuchElementException:\n",
    "    driver.get(trending.get_attribute('href'))"
   ]
  },
  {
   "cell_type": "code",
   "execution_count": null,
   "id": "687dd07d",
   "metadata": {},
   "outputs": [],
   "source": [
    "#Creating empty lists for storing the scrapped data\n",
    "rep_title=[]\n",
    "rep_desc=[]\n",
    "Count=[]\n",
    "Lang=[]\n",
    "\n",
    "#Scrapping the data having the repository title\n",
    "title=driver.find_elements(By.XPATH,'//h1[@class=\"h3 lh-condensed\"]/a')\n",
    "for i in title:\n",
    "    rep_title.append(i.text)\n",
    "    \n",
    "#Scrapping the data having the repository description\n",
    "desc=driver.find_elements(By.XPATH,'//p[@class=\"col-9 color-text-secondary my-1 pr-4\"]')\n",
    "for i in desc:\n",
    "    rep_desc.append(i.text)\n",
    "    \n",
    "#Scrapping the data having the contributors count\n",
    "count=driver.find_elements(By.XPATH,'//div[@class=\"f6 color-text-secondary mt-2\"]/a[2]')\n",
    "for i in count:\n",
    "    Count.append(i.text)\n",
    "    \n",
    "#Scrapping the data having the language used \n",
    "lang=driver.find_elements(By.XPATH,'//span[@class=\"d-inline-block ml-0 mr-3\"]')\n",
    "for i in lang:\n",
    "    if i.text is None:\n",
    "        Lang.append('Not Available')\n",
    "    else:\n",
    "        Lang.append(i.text)"
   ]
  },
  {
   "cell_type": "code",
   "execution_count": null,
   "id": "74cfb038",
   "metadata": {},
   "outputs": [],
   "source": [
    "#Checking out the length of scrapped data\n",
    "print(len(rep_title),len(rep_desc),len(Count),len(Lang))"
   ]
  },
  {
   "cell_type": "code",
   "execution_count": 41,
   "id": "a65016fe",
   "metadata": {},
   "outputs": [
    {
     "ename": "NameError",
     "evalue": "name 'rep_title' is not defined",
     "output_type": "error",
     "traceback": [
      "\u001b[1;31m---------------------------------------------------------------------------\u001b[0m",
      "\u001b[1;31mNameError\u001b[0m                                 Traceback (most recent call last)",
      "\u001b[1;32m~\\AppData\\Local\\Temp\\ipykernel_17372\\733599140.py\u001b[0m in \u001b[0;36m<module>\u001b[1;34m\u001b[0m\n\u001b[0;32m      1\u001b[0m \u001b[1;31m#Creating a dataframe for the scrapped data\u001b[0m\u001b[1;33m\u001b[0m\u001b[1;33m\u001b[0m\u001b[0m\n\u001b[0;32m      2\u001b[0m \u001b[0mgithub\u001b[0m\u001b[1;33m=\u001b[0m\u001b[0mpd\u001b[0m\u001b[1;33m.\u001b[0m\u001b[0mDataFrame\u001b[0m\u001b[1;33m(\u001b[0m\u001b[1;33m{\u001b[0m\u001b[1;33m}\u001b[0m\u001b[1;33m)\u001b[0m\u001b[1;33m\u001b[0m\u001b[1;33m\u001b[0m\u001b[0m\n\u001b[1;32m----> 3\u001b[1;33m \u001b[0mgithub\u001b[0m\u001b[1;33m[\u001b[0m\u001b[1;34m'Repository title'\u001b[0m\u001b[1;33m]\u001b[0m\u001b[1;33m=\u001b[0m\u001b[0mrep_title\u001b[0m\u001b[1;33m\u001b[0m\u001b[1;33m\u001b[0m\u001b[0m\n\u001b[0m\u001b[0;32m      4\u001b[0m \u001b[0mgithub\u001b[0m\u001b[1;33m[\u001b[0m\u001b[1;34m'Description'\u001b[0m\u001b[1;33m]\u001b[0m\u001b[1;33m=\u001b[0m\u001b[0mrep_desc\u001b[0m\u001b[1;33m\u001b[0m\u001b[1;33m\u001b[0m\u001b[0m\n\u001b[0;32m      5\u001b[0m \u001b[0mgithub\u001b[0m\u001b[1;33m[\u001b[0m\u001b[1;34m'Contributors count'\u001b[0m\u001b[1;33m]\u001b[0m\u001b[1;33m=\u001b[0m\u001b[0mCount\u001b[0m\u001b[1;33m\u001b[0m\u001b[1;33m\u001b[0m\u001b[0m\n",
      "\u001b[1;31mNameError\u001b[0m: name 'rep_title' is not defined"
     ]
    }
   ],
   "source": [
    "#Creating a dataframe for the scrapped data\n",
    "github=pd.DataFrame({})\n",
    "github['Repository title']=rep_title\n",
    "github['Description']=rep_desc\n",
    "github['Contributors count']=Count\n",
    "github['Language used']=Lang\n",
    "github\n"
   ]
  },
  {
   "cell_type": "markdown",
   "id": "2279e716",
   "metadata": {},
   "source": [
    "# 5. Scrape the details of top 100 songs on billiboard.com.\n",
    "Url = https:/www.billboard.com/\n",
    "You have to find the following details:\n",
    "A) Song name\n",
    "B) Artist name\n",
    "C) Last week rank\n",
    "D) Peak rank\n",
    "E) Weeks on boar"
   ]
  },
  {
   "cell_type": "code",
   "execution_count": 43,
   "id": "3b70157a",
   "metadata": {},
   "outputs": [
    {
     "name": "stderr",
     "output_type": "stream",
     "text": [
      "C:\\Users\\dell\\AppData\\Local\\Temp\\ipykernel_17372\\1549792366.py:1: DeprecationWarning: executable_path has been deprecated, please pass in a Service object\n",
      "  driver = webdriver.Chrome(r'chromedriver.exe')  # Optional argument, if not specified will search path.\n"
     ]
    }
   ],
   "source": [
    " driver = webdriver.Chrome(r'chromedriver.exe')  # Optional argument, if not specified will search path.\n",
    " driver.get('https://www.billboard.com/');\n",
    "\n",
    "      "
   ]
  },
  {
   "cell_type": "code",
   "execution_count": 44,
   "id": "d38a605f",
   "metadata": {},
   "outputs": [
    {
     "ename": "NoSuchElementException",
     "evalue": "Message: no such element: Unable to locate element: {\"method\":\"xpath\",\"selector\":\"//nav[@class=\"header__subnav bg--light\"]/ul/li[3]/a\"}\n  (Session info: chrome=111.0.5563.65)\nStacktrace:\nBacktrace:\n\t(No symbol) [0x0093DCE3]\n\t(No symbol) [0x008D39D1]\n\t(No symbol) [0x007E4DA8]\n\t(No symbol) [0x0081019F]\n\t(No symbol) [0x008103AB]\n\t(No symbol) [0x0083EE62]\n\t(No symbol) [0x0082AF14]\n\t(No symbol) [0x0083D57C]\n\t(No symbol) [0x0082ACC6]\n\t(No symbol) [0x00806F68]\n\t(No symbol) [0x008080CD]\n\tGetHandleVerifier [0x00BB3832+2506274]\n\tGetHandleVerifier [0x00BE9794+2727300]\n\tGetHandleVerifier [0x00BEE36C+2746716]\n\tGetHandleVerifier [0x009E6690+617600]\n\t(No symbol) [0x008DC712]\n\t(No symbol) [0x008E1FF8]\n\t(No symbol) [0x008E20DB]\n\t(No symbol) [0x008EC63B]\n\tBaseThreadInitThunk [0x771100F9+25]\n\tRtlGetAppContainerNamedObjectPath [0x77AA7BBE+286]\n\tRtlGetAppContainerNamedObjectPath [0x77AA7B8E+238]\n",
     "output_type": "error",
     "traceback": [
      "\u001b[1;31m---------------------------------------------------------------------------\u001b[0m",
      "\u001b[1;31mNoSuchElementException\u001b[0m                    Traceback (most recent call last)",
      "\u001b[1;32m~\\AppData\\Local\\Temp\\ipykernel_17372\\1078402806.py\u001b[0m in \u001b[0;36m<module>\u001b[1;34m\u001b[0m\n\u001b[0;32m      1\u001b[0m \u001b[1;31m#Clicking charts and then hot100 option\u001b[0m\u001b[1;33m\u001b[0m\u001b[1;33m\u001b[0m\u001b[0m\n\u001b[1;32m----> 2\u001b[1;33m \u001b[0mhot_100\u001b[0m\u001b[1;33m=\u001b[0m\u001b[0mdriver\u001b[0m\u001b[1;33m.\u001b[0m\u001b[0mfind_element\u001b[0m\u001b[1;33m(\u001b[0m\u001b[0mBy\u001b[0m\u001b[1;33m.\u001b[0m\u001b[0mXPATH\u001b[0m\u001b[1;33m,\u001b[0m\u001b[1;34m'//nav[@class=\"header__subnav bg--light\"]/ul/li[3]/a'\u001b[0m\u001b[1;33m)\u001b[0m\u001b[1;33m\u001b[0m\u001b[1;33m\u001b[0m\u001b[0m\n\u001b[0m\u001b[0;32m      3\u001b[0m \u001b[1;32mtry\u001b[0m\u001b[1;33m:\u001b[0m\u001b[1;33m\u001b[0m\u001b[1;33m\u001b[0m\u001b[0m\n\u001b[0;32m      4\u001b[0m     \u001b[0mhot_100\u001b[0m\u001b[1;33m.\u001b[0m\u001b[0mclick\u001b[0m\u001b[1;33m(\u001b[0m\u001b[1;33m)\u001b[0m\u001b[1;33m\u001b[0m\u001b[1;33m\u001b[0m\u001b[0m\n\u001b[0;32m      5\u001b[0m \u001b[1;32mexcept\u001b[0m \u001b[0mNoSuchElementException\u001b[0m \u001b[1;33m:\u001b[0m\u001b[1;33m\u001b[0m\u001b[1;33m\u001b[0m\u001b[0m\n",
      "\u001b[1;32m~\\anaconda3\\lib\\site-packages\\selenium\\webdriver\\remote\\webdriver.py\u001b[0m in \u001b[0;36mfind_element\u001b[1;34m(self, by, value)\u001b[0m\n\u001b[0;32m    828\u001b[0m             \u001b[0mvalue\u001b[0m \u001b[1;33m=\u001b[0m \u001b[1;34mf'[name=\"{value}\"]'\u001b[0m\u001b[1;33m\u001b[0m\u001b[1;33m\u001b[0m\u001b[0m\n\u001b[0;32m    829\u001b[0m \u001b[1;33m\u001b[0m\u001b[0m\n\u001b[1;32m--> 830\u001b[1;33m         \u001b[1;32mreturn\u001b[0m \u001b[0mself\u001b[0m\u001b[1;33m.\u001b[0m\u001b[0mexecute\u001b[0m\u001b[1;33m(\u001b[0m\u001b[0mCommand\u001b[0m\u001b[1;33m.\u001b[0m\u001b[0mFIND_ELEMENT\u001b[0m\u001b[1;33m,\u001b[0m \u001b[1;33m{\u001b[0m\u001b[1;34m\"using\"\u001b[0m\u001b[1;33m:\u001b[0m \u001b[0mby\u001b[0m\u001b[1;33m,\u001b[0m \u001b[1;34m\"value\"\u001b[0m\u001b[1;33m:\u001b[0m \u001b[0mvalue\u001b[0m\u001b[1;33m}\u001b[0m\u001b[1;33m)\u001b[0m\u001b[1;33m[\u001b[0m\u001b[1;34m\"value\"\u001b[0m\u001b[1;33m]\u001b[0m\u001b[1;33m\u001b[0m\u001b[1;33m\u001b[0m\u001b[0m\n\u001b[0m\u001b[0;32m    831\u001b[0m \u001b[1;33m\u001b[0m\u001b[0m\n\u001b[0;32m    832\u001b[0m     \u001b[1;32mdef\u001b[0m \u001b[0mfind_elements\u001b[0m\u001b[1;33m(\u001b[0m\u001b[0mself\u001b[0m\u001b[1;33m,\u001b[0m \u001b[0mby\u001b[0m\u001b[1;33m=\u001b[0m\u001b[0mBy\u001b[0m\u001b[1;33m.\u001b[0m\u001b[0mID\u001b[0m\u001b[1;33m,\u001b[0m \u001b[0mvalue\u001b[0m\u001b[1;33m:\u001b[0m \u001b[0mOptional\u001b[0m\u001b[1;33m[\u001b[0m\u001b[0mstr\u001b[0m\u001b[1;33m]\u001b[0m \u001b[1;33m=\u001b[0m \u001b[1;32mNone\u001b[0m\u001b[1;33m)\u001b[0m \u001b[1;33m->\u001b[0m \u001b[0mList\u001b[0m\u001b[1;33m[\u001b[0m\u001b[0mWebElement\u001b[0m\u001b[1;33m]\u001b[0m\u001b[1;33m:\u001b[0m\u001b[1;33m\u001b[0m\u001b[1;33m\u001b[0m\u001b[0m\n",
      "\u001b[1;32m~\\anaconda3\\lib\\site-packages\\selenium\\webdriver\\remote\\webdriver.py\u001b[0m in \u001b[0;36mexecute\u001b[1;34m(self, driver_command, params)\u001b[0m\n\u001b[0;32m    438\u001b[0m         \u001b[0mresponse\u001b[0m \u001b[1;33m=\u001b[0m \u001b[0mself\u001b[0m\u001b[1;33m.\u001b[0m\u001b[0mcommand_executor\u001b[0m\u001b[1;33m.\u001b[0m\u001b[0mexecute\u001b[0m\u001b[1;33m(\u001b[0m\u001b[0mdriver_command\u001b[0m\u001b[1;33m,\u001b[0m \u001b[0mparams\u001b[0m\u001b[1;33m)\u001b[0m\u001b[1;33m\u001b[0m\u001b[1;33m\u001b[0m\u001b[0m\n\u001b[0;32m    439\u001b[0m         \u001b[1;32mif\u001b[0m \u001b[0mresponse\u001b[0m\u001b[1;33m:\u001b[0m\u001b[1;33m\u001b[0m\u001b[1;33m\u001b[0m\u001b[0m\n\u001b[1;32m--> 440\u001b[1;33m             \u001b[0mself\u001b[0m\u001b[1;33m.\u001b[0m\u001b[0merror_handler\u001b[0m\u001b[1;33m.\u001b[0m\u001b[0mcheck_response\u001b[0m\u001b[1;33m(\u001b[0m\u001b[0mresponse\u001b[0m\u001b[1;33m)\u001b[0m\u001b[1;33m\u001b[0m\u001b[1;33m\u001b[0m\u001b[0m\n\u001b[0m\u001b[0;32m    441\u001b[0m             \u001b[0mresponse\u001b[0m\u001b[1;33m[\u001b[0m\u001b[1;34m\"value\"\u001b[0m\u001b[1;33m]\u001b[0m \u001b[1;33m=\u001b[0m \u001b[0mself\u001b[0m\u001b[1;33m.\u001b[0m\u001b[0m_unwrap_value\u001b[0m\u001b[1;33m(\u001b[0m\u001b[0mresponse\u001b[0m\u001b[1;33m.\u001b[0m\u001b[0mget\u001b[0m\u001b[1;33m(\u001b[0m\u001b[1;34m\"value\"\u001b[0m\u001b[1;33m,\u001b[0m \u001b[1;32mNone\u001b[0m\u001b[1;33m)\u001b[0m\u001b[1;33m)\u001b[0m\u001b[1;33m\u001b[0m\u001b[1;33m\u001b[0m\u001b[0m\n\u001b[0;32m    442\u001b[0m             \u001b[1;32mreturn\u001b[0m \u001b[0mresponse\u001b[0m\u001b[1;33m\u001b[0m\u001b[1;33m\u001b[0m\u001b[0m\n",
      "\u001b[1;32m~\\anaconda3\\lib\\site-packages\\selenium\\webdriver\\remote\\errorhandler.py\u001b[0m in \u001b[0;36mcheck_response\u001b[1;34m(self, response)\u001b[0m\n\u001b[0;32m    243\u001b[0m                 \u001b[0malert_text\u001b[0m \u001b[1;33m=\u001b[0m \u001b[0mvalue\u001b[0m\u001b[1;33m[\u001b[0m\u001b[1;34m\"alert\"\u001b[0m\u001b[1;33m]\u001b[0m\u001b[1;33m.\u001b[0m\u001b[0mget\u001b[0m\u001b[1;33m(\u001b[0m\u001b[1;34m\"text\"\u001b[0m\u001b[1;33m)\u001b[0m\u001b[1;33m\u001b[0m\u001b[1;33m\u001b[0m\u001b[0m\n\u001b[0;32m    244\u001b[0m             \u001b[1;32mraise\u001b[0m \u001b[0mexception_class\u001b[0m\u001b[1;33m(\u001b[0m\u001b[0mmessage\u001b[0m\u001b[1;33m,\u001b[0m \u001b[0mscreen\u001b[0m\u001b[1;33m,\u001b[0m \u001b[0mstacktrace\u001b[0m\u001b[1;33m,\u001b[0m \u001b[0malert_text\u001b[0m\u001b[1;33m)\u001b[0m  \u001b[1;31m# type: ignore[call-arg]  # mypy is not smart enough here\u001b[0m\u001b[1;33m\u001b[0m\u001b[1;33m\u001b[0m\u001b[0m\n\u001b[1;32m--> 245\u001b[1;33m         \u001b[1;32mraise\u001b[0m \u001b[0mexception_class\u001b[0m\u001b[1;33m(\u001b[0m\u001b[0mmessage\u001b[0m\u001b[1;33m,\u001b[0m \u001b[0mscreen\u001b[0m\u001b[1;33m,\u001b[0m \u001b[0mstacktrace\u001b[0m\u001b[1;33m)\u001b[0m\u001b[1;33m\u001b[0m\u001b[1;33m\u001b[0m\u001b[0m\n\u001b[0m",
      "\u001b[1;31mNoSuchElementException\u001b[0m: Message: no such element: Unable to locate element: {\"method\":\"xpath\",\"selector\":\"//nav[@class=\"header__subnav bg--light\"]/ul/li[3]/a\"}\n  (Session info: chrome=111.0.5563.65)\nStacktrace:\nBacktrace:\n\t(No symbol) [0x0093DCE3]\n\t(No symbol) [0x008D39D1]\n\t(No symbol) [0x007E4DA8]\n\t(No symbol) [0x0081019F]\n\t(No symbol) [0x008103AB]\n\t(No symbol) [0x0083EE62]\n\t(No symbol) [0x0082AF14]\n\t(No symbol) [0x0083D57C]\n\t(No symbol) [0x0082ACC6]\n\t(No symbol) [0x00806F68]\n\t(No symbol) [0x008080CD]\n\tGetHandleVerifier [0x00BB3832+2506274]\n\tGetHandleVerifier [0x00BE9794+2727300]\n\tGetHandleVerifier [0x00BEE36C+2746716]\n\tGetHandleVerifier [0x009E6690+617600]\n\t(No symbol) [0x008DC712]\n\t(No symbol) [0x008E1FF8]\n\t(No symbol) [0x008E20DB]\n\t(No symbol) [0x008EC63B]\n\tBaseThreadInitThunk [0x771100F9+25]\n\tRtlGetAppContainerNamedObjectPath [0x77AA7BBE+286]\n\tRtlGetAppContainerNamedObjectPath [0x77AA7B8E+238]\n"
     ]
    }
   ],
   "source": [
    "#Clicking charts and then hot100 option\n",
    "hot_100=driver.find_element(By.XPATH,'//nav[@class=\"header__subnav bg--light\"]/ul/li[3]/a')\n",
    "try:\n",
    "    hot_100.click()\n",
    "except NoSuchElementException :\n",
    "     driver.get(hot_100.get_attribute('href'))"
   ]
  },
  {
   "cell_type": "code",
   "execution_count": 45,
   "id": "b7e46507",
   "metadata": {},
   "outputs": [
    {
     "ename": "AttributeError",
     "evalue": "'WebDriver' object has no attribute 'find_elements_by_xpath'",
     "output_type": "error",
     "traceback": [
      "\u001b[1;31m---------------------------------------------------------------------------\u001b[0m",
      "\u001b[1;31mAttributeError\u001b[0m                            Traceback (most recent call last)",
      "\u001b[1;32m~\\AppData\\Local\\Temp\\ipykernel_17372\\2528539082.py\u001b[0m in \u001b[0;36m<module>\u001b[1;34m\u001b[0m\n\u001b[0;32m     12\u001b[0m \u001b[1;33m\u001b[0m\u001b[0m\n\u001b[0;32m     13\u001b[0m    \u001b[1;31m#Scrapping the data having the artist name\u001b[0m\u001b[1;33m\u001b[0m\u001b[1;33m\u001b[0m\u001b[0m\n\u001b[1;32m---> 14\u001b[1;33m \u001b[0martist\u001b[0m\u001b[1;33m=\u001b[0m\u001b[0mdriver\u001b[0m\u001b[1;33m.\u001b[0m\u001b[0mfind_elements_by_xpath\u001b[0m\u001b[1;33m(\u001b[0m\u001b[1;34m\"//span[@class='chart-element__information__artist text--truncate color--secondary']\"\u001b[0m\u001b[1;33m)\u001b[0m\u001b[1;33m\u001b[0m\u001b[1;33m\u001b[0m\u001b[0m\n\u001b[0m\u001b[0;32m     15\u001b[0m \u001b[1;32mfor\u001b[0m \u001b[0mi\u001b[0m \u001b[1;32min\u001b[0m \u001b[0martist\u001b[0m\u001b[1;33m:\u001b[0m\u001b[1;33m\u001b[0m\u001b[1;33m\u001b[0m\u001b[0m\n\u001b[0;32m     16\u001b[0m     \u001b[0mArtist\u001b[0m\u001b[1;33m.\u001b[0m\u001b[0mappend\u001b[0m\u001b[1;33m(\u001b[0m\u001b[0mi\u001b[0m\u001b[1;33m.\u001b[0m\u001b[0mtext\u001b[0m\u001b[1;33m)\u001b[0m\u001b[1;33m\u001b[0m\u001b[1;33m\u001b[0m\u001b[0m\n",
      "\u001b[1;31mAttributeError\u001b[0m: 'WebDriver' object has no attribute 'find_elements_by_xpath'"
     ]
    }
   ],
   "source": [
    "#Creating empty lists for storing the scrapped data\n",
    "Song=[]\n",
    "Artist=[]\n",
    "Lastweek=[]\n",
    "Peak=[]\n",
    "Weeks_on_board=[]\n",
    "\n",
    "#Scrapping the data having the song name\n",
    "song=driver.find_elements(By.XPATH,'//span[@class=\"chart-element__information__song text--truncate color--primary\"]')\n",
    "for i in song:\n",
    "    Song.append(i.text)\n",
    "    \n",
    "   #Scrapping the data having the artist name\n",
    "artist=driver.find_elements_by_xpath(\"//span[@class='chart-element__information__artist text--truncate color--secondary']\")\n",
    "for i in artist:\n",
    "    Artist.append(i.text)\n",
    "    \n",
    "#Scrapping the data having the last week rank\n",
    "last_week=driver.find_elements_by_xpath(\"//div[@class='chart-element__meta text--center color--secondary text--last']\")\n",
    "for i in last_week:\n",
    "    if i.text is None:\n",
    "        Lastweek.append('-')\n",
    "    else:\n",
    "        Lastweek.append(i.text)\n",
    "        \n",
    "#Scrapping the data having the peak rank\n",
    "peak=driver.find_elements_by_xpath(\"//div[@class='chart-element__meta text--center color--secondary text--peak']\")\n",
    "for i in peak:\n",
    "    if i.text is None:\n",
    "        Peak.append('-')\n",
    "    else:\n",
    "        Peak.append(i.text)\n",
    "        \n",
    "#Scrapping the data having weeks on board data\n",
    "weeks=driver.find_elements_by_xpath(\"//div[@class='chart-element__meta text--center color--secondary text--week']\")\n",
    "for i in weeks:\n",
    "    if i.text is None:\n",
    "        Weeks_on_board.append('-')\n",
    "    else:\n",
    "        Weeks_on_board.append(i.text) \n",
    "    "
   ]
  },
  {
   "cell_type": "code",
   "execution_count": null,
   "id": "c5a7db12",
   "metadata": {},
   "outputs": [],
   "source": [
    "#Checking the length of the scrapped data\n",
    "print(len(Song),len(Artist),len(Lastweek),len(Peak),len(Weeks_on_board))"
   ]
  },
  {
   "cell_type": "code",
   "execution_count": null,
   "id": "8aac4467",
   "metadata": {},
   "outputs": [],
   "source": [
    "#Creating a dataframe for the scrapped data\n",
    "billboard=pd.DataFrame({'Song':Song,'Artist':Artist,'Last week Rank':Lastweek,'Peak Rank':Peak,'Weeks on board':Weeks_on_board})\n",
    "billboard"
   ]
  },
  {
   "cell_type": "markdown",
   "id": "8912d394",
   "metadata": {},
   "source": [
    "# 6.Scrape the details of Highest selling novels. Url = https://www.theguardian.com/news/datablog/2012/aug/09/best-selling-books-all-time-fifty-shades-grey\u0002compare/ You have to find the following details: A) Book name B) Author name C) Volumes sold D) Publisher E) Genre¶"
   ]
  },
  {
   "cell_type": "code",
   "execution_count": null,
   "id": "cee84254",
   "metadata": {},
   "outputs": [],
   "source": [
    "driver = webdriver.Chrome(r'chromedriver.exe')  # Optional argument, if not specified will search path.\n",
    "driver.get('https://www.theguardian.com/news/datablog/2012/aug/09/best-selling-books-all-time-fifty-shades-grey-compare/ ');\n"
   ]
  },
  {
   "cell_type": "code",
   "execution_count": null,
   "id": "1f7d0b73",
   "metadata": {},
   "outputs": [],
   "source": [
    "#Creating empty lists to store the scrapped data\n",
    "Book=[]\n",
    "Author=[]\n",
    "Volume=[]\n",
    "Publisher=[]\n",
    "Genre=[]\n",
    "\n",
    "#Scrapping the data having the book name\n",
    "book=driver.find_elements(By.XPATH,'//table[@class=\"in-article sortable\"]/tbody/tr/td[2]')\n",
    "for i in book:\n",
    "    Book.append(i.text)\n",
    "    \n",
    "    #Scrapping the data having the author name\n",
    "author=driver.find_elements(By.XPATH,'//table[@class=\"in-article sortable\"]/tbody/tr/td[3]')\n",
    "for i in author:\n",
    "    Author.append(i.text)\n",
    "    \n",
    "#Scrapping the data having the volumes sold details\n",
    "volume=driver.find_elements(By.XPATH,'//table[@class=\"in-article sortable\"]/tbody/tr/td[4]')\n",
    "for i in volume:\n",
    "    Volume.append(i.text)\n",
    "\n",
    "#Scrapping the data having publisher details\n",
    "publisher=driver.find_elements(By.XPATH,'//table[@class=\"in-article sortable\"]/tbody/tr/td[5]')\n",
    "for i in publisher:\n",
    "    Publisher.append(i.text)\n",
    "    \n",
    "#Scrapping the data having genre details \n",
    "genre=driver.find_elements(By.XPATH,'//table[@class=\"in-article sortable\"]/tbody/tr/td[6]')\n",
    "for i in genre:\n",
    "    Genre.append(i.text)\n",
    "    "
   ]
  },
  {
   "cell_type": "code",
   "execution_count": null,
   "id": "aa8dabe4",
   "metadata": {},
   "outputs": [],
   "source": [
    "#Creating a dataframe for the scrapped data\n",
    "novels=pd.DataFrame({})\n",
    "novels['Book']=Book\n",
    "novels['Author']=Author\n",
    "novels['Volumes sold']=Volume\n",
    "novels['Publisher']=Publisher\n",
    "novels['Genre']=Genre\n",
    "novels"
   ]
  },
  {
   "cell_type": "markdown",
   "id": "4ce0ac3b",
   "metadata": {},
   "source": [
    "# 7.Scrape the details most watched tv series of all time from imdb.com.\n",
    "Url = https://www.imdb.com/list/ls095964455/\n",
    "You have to find the following details:\n",
    "A) Name\n",
    "B) Year span\n",
    "C) Genre\n",
    "D) Run time\n",
    "E) Ratings\n",
    "F) Votes"
   ]
  },
  {
   "cell_type": "code",
   "execution_count": 47,
   "id": "0c35024e",
   "metadata": {},
   "outputs": [
    {
     "name": "stderr",
     "output_type": "stream",
     "text": [
      "C:\\Users\\dell\\AppData\\Local\\Temp\\ipykernel_17372\\1373925283.py:1: DeprecationWarning: executable_path has been deprecated, please pass in a Service object\n",
      "  driver = webdriver.Chrome(r'chromedriver.exe')  # Optional argument, if not specified will search path.\n"
     ]
    },
    {
     "ename": "TimeoutException",
     "evalue": "Message: timeout: Timed out receiving message from renderer: 292.051\n  (Session info: chrome=111.0.5563.65)\nStacktrace:\nBacktrace:\n\t(No symbol) [0x0093DCE3]\n\t(No symbol) [0x008D39D1]\n\t(No symbol) [0x007E4DA8]\n\t(No symbol) [0x007D80AF]\n\t(No symbol) [0x007D7EFC]\n\t(No symbol) [0x007D6BF6]\n\t(No symbol) [0x007D747A]\n\t(No symbol) [0x007DFF62]\n\t(No symbol) [0x007EA348]\n\t(No symbol) [0x007ECD46]\n\t(No symbol) [0x007D77D3]\n\t(No symbol) [0x007EA211]\n\t(No symbol) [0x0083D779]\n\t(No symbol) [0x0082ACC6]\n\t(No symbol) [0x00806F68]\n\t(No symbol) [0x008080CD]\n\tGetHandleVerifier [0x00BB3832+2506274]\n\tGetHandleVerifier [0x00BE9794+2727300]\n\tGetHandleVerifier [0x00BEE36C+2746716]\n\tGetHandleVerifier [0x009E6690+617600]\n\t(No symbol) [0x008DC712]\n\t(No symbol) [0x008E1FF8]\n\t(No symbol) [0x008E20DB]\n\t(No symbol) [0x008EC63B]\n\tBaseThreadInitThunk [0x771100F9+25]\n\tRtlGetAppContainerNamedObjectPath [0x77AA7BBE+286]\n\tRtlGetAppContainerNamedObjectPath [0x77AA7B8E+238]\n",
     "output_type": "error",
     "traceback": [
      "\u001b[1;31m---------------------------------------------------------------------------\u001b[0m",
      "\u001b[1;31mTimeoutException\u001b[0m                          Traceback (most recent call last)",
      "\u001b[1;32m~\\AppData\\Local\\Temp\\ipykernel_17372\\1373925283.py\u001b[0m in \u001b[0;36m<module>\u001b[1;34m\u001b[0m\n\u001b[0;32m      1\u001b[0m \u001b[0mdriver\u001b[0m \u001b[1;33m=\u001b[0m \u001b[0mwebdriver\u001b[0m\u001b[1;33m.\u001b[0m\u001b[0mChrome\u001b[0m\u001b[1;33m(\u001b[0m\u001b[1;34mr'chromedriver.exe'\u001b[0m\u001b[1;33m)\u001b[0m  \u001b[1;31m# Optional argument, if not specified will search path.\u001b[0m\u001b[1;33m\u001b[0m\u001b[1;33m\u001b[0m\u001b[0m\n\u001b[1;32m----> 2\u001b[1;33m \u001b[0mdriver\u001b[0m\u001b[1;33m.\u001b[0m\u001b[0mget\u001b[0m\u001b[1;33m(\u001b[0m\u001b[1;34m'https://www.imdb.com/list/ls095964455/ '\u001b[0m\u001b[1;33m)\u001b[0m\u001b[1;33m\u001b[0m\u001b[1;33m\u001b[0m\u001b[0m\n\u001b[0m",
      "\u001b[1;32m~\\anaconda3\\lib\\site-packages\\selenium\\webdriver\\remote\\webdriver.py\u001b[0m in \u001b[0;36mget\u001b[1;34m(self, url)\u001b[0m\n\u001b[0;32m    447\u001b[0m     \u001b[1;32mdef\u001b[0m \u001b[0mget\u001b[0m\u001b[1;33m(\u001b[0m\u001b[0mself\u001b[0m\u001b[1;33m,\u001b[0m \u001b[0murl\u001b[0m\u001b[1;33m:\u001b[0m \u001b[0mstr\u001b[0m\u001b[1;33m)\u001b[0m \u001b[1;33m->\u001b[0m \u001b[1;32mNone\u001b[0m\u001b[1;33m:\u001b[0m\u001b[1;33m\u001b[0m\u001b[1;33m\u001b[0m\u001b[0m\n\u001b[0;32m    448\u001b[0m         \u001b[1;34m\"\"\"Loads a web page in the current browser session.\"\"\"\u001b[0m\u001b[1;33m\u001b[0m\u001b[1;33m\u001b[0m\u001b[0m\n\u001b[1;32m--> 449\u001b[1;33m         \u001b[0mself\u001b[0m\u001b[1;33m.\u001b[0m\u001b[0mexecute\u001b[0m\u001b[1;33m(\u001b[0m\u001b[0mCommand\u001b[0m\u001b[1;33m.\u001b[0m\u001b[0mGET\u001b[0m\u001b[1;33m,\u001b[0m \u001b[1;33m{\u001b[0m\u001b[1;34m\"url\"\u001b[0m\u001b[1;33m:\u001b[0m \u001b[0murl\u001b[0m\u001b[1;33m}\u001b[0m\u001b[1;33m)\u001b[0m\u001b[1;33m\u001b[0m\u001b[1;33m\u001b[0m\u001b[0m\n\u001b[0m\u001b[0;32m    450\u001b[0m \u001b[1;33m\u001b[0m\u001b[0m\n\u001b[0;32m    451\u001b[0m     \u001b[1;33m@\u001b[0m\u001b[0mproperty\u001b[0m\u001b[1;33m\u001b[0m\u001b[1;33m\u001b[0m\u001b[0m\n",
      "\u001b[1;32m~\\anaconda3\\lib\\site-packages\\selenium\\webdriver\\remote\\webdriver.py\u001b[0m in \u001b[0;36mexecute\u001b[1;34m(self, driver_command, params)\u001b[0m\n\u001b[0;32m    438\u001b[0m         \u001b[0mresponse\u001b[0m \u001b[1;33m=\u001b[0m \u001b[0mself\u001b[0m\u001b[1;33m.\u001b[0m\u001b[0mcommand_executor\u001b[0m\u001b[1;33m.\u001b[0m\u001b[0mexecute\u001b[0m\u001b[1;33m(\u001b[0m\u001b[0mdriver_command\u001b[0m\u001b[1;33m,\u001b[0m \u001b[0mparams\u001b[0m\u001b[1;33m)\u001b[0m\u001b[1;33m\u001b[0m\u001b[1;33m\u001b[0m\u001b[0m\n\u001b[0;32m    439\u001b[0m         \u001b[1;32mif\u001b[0m \u001b[0mresponse\u001b[0m\u001b[1;33m:\u001b[0m\u001b[1;33m\u001b[0m\u001b[1;33m\u001b[0m\u001b[0m\n\u001b[1;32m--> 440\u001b[1;33m             \u001b[0mself\u001b[0m\u001b[1;33m.\u001b[0m\u001b[0merror_handler\u001b[0m\u001b[1;33m.\u001b[0m\u001b[0mcheck_response\u001b[0m\u001b[1;33m(\u001b[0m\u001b[0mresponse\u001b[0m\u001b[1;33m)\u001b[0m\u001b[1;33m\u001b[0m\u001b[1;33m\u001b[0m\u001b[0m\n\u001b[0m\u001b[0;32m    441\u001b[0m             \u001b[0mresponse\u001b[0m\u001b[1;33m[\u001b[0m\u001b[1;34m\"value\"\u001b[0m\u001b[1;33m]\u001b[0m \u001b[1;33m=\u001b[0m \u001b[0mself\u001b[0m\u001b[1;33m.\u001b[0m\u001b[0m_unwrap_value\u001b[0m\u001b[1;33m(\u001b[0m\u001b[0mresponse\u001b[0m\u001b[1;33m.\u001b[0m\u001b[0mget\u001b[0m\u001b[1;33m(\u001b[0m\u001b[1;34m\"value\"\u001b[0m\u001b[1;33m,\u001b[0m \u001b[1;32mNone\u001b[0m\u001b[1;33m)\u001b[0m\u001b[1;33m)\u001b[0m\u001b[1;33m\u001b[0m\u001b[1;33m\u001b[0m\u001b[0m\n\u001b[0;32m    442\u001b[0m             \u001b[1;32mreturn\u001b[0m \u001b[0mresponse\u001b[0m\u001b[1;33m\u001b[0m\u001b[1;33m\u001b[0m\u001b[0m\n",
      "\u001b[1;32m~\\anaconda3\\lib\\site-packages\\selenium\\webdriver\\remote\\errorhandler.py\u001b[0m in \u001b[0;36mcheck_response\u001b[1;34m(self, response)\u001b[0m\n\u001b[0;32m    243\u001b[0m                 \u001b[0malert_text\u001b[0m \u001b[1;33m=\u001b[0m \u001b[0mvalue\u001b[0m\u001b[1;33m[\u001b[0m\u001b[1;34m\"alert\"\u001b[0m\u001b[1;33m]\u001b[0m\u001b[1;33m.\u001b[0m\u001b[0mget\u001b[0m\u001b[1;33m(\u001b[0m\u001b[1;34m\"text\"\u001b[0m\u001b[1;33m)\u001b[0m\u001b[1;33m\u001b[0m\u001b[1;33m\u001b[0m\u001b[0m\n\u001b[0;32m    244\u001b[0m             \u001b[1;32mraise\u001b[0m \u001b[0mexception_class\u001b[0m\u001b[1;33m(\u001b[0m\u001b[0mmessage\u001b[0m\u001b[1;33m,\u001b[0m \u001b[0mscreen\u001b[0m\u001b[1;33m,\u001b[0m \u001b[0mstacktrace\u001b[0m\u001b[1;33m,\u001b[0m \u001b[0malert_text\u001b[0m\u001b[1;33m)\u001b[0m  \u001b[1;31m# type: ignore[call-arg]  # mypy is not smart enough here\u001b[0m\u001b[1;33m\u001b[0m\u001b[1;33m\u001b[0m\u001b[0m\n\u001b[1;32m--> 245\u001b[1;33m         \u001b[1;32mraise\u001b[0m \u001b[0mexception_class\u001b[0m\u001b[1;33m(\u001b[0m\u001b[0mmessage\u001b[0m\u001b[1;33m,\u001b[0m \u001b[0mscreen\u001b[0m\u001b[1;33m,\u001b[0m \u001b[0mstacktrace\u001b[0m\u001b[1;33m)\u001b[0m\u001b[1;33m\u001b[0m\u001b[1;33m\u001b[0m\u001b[0m\n\u001b[0m",
      "\u001b[1;31mTimeoutException\u001b[0m: Message: timeout: Timed out receiving message from renderer: 292.051\n  (Session info: chrome=111.0.5563.65)\nStacktrace:\nBacktrace:\n\t(No symbol) [0x0093DCE3]\n\t(No symbol) [0x008D39D1]\n\t(No symbol) [0x007E4DA8]\n\t(No symbol) [0x007D80AF]\n\t(No symbol) [0x007D7EFC]\n\t(No symbol) [0x007D6BF6]\n\t(No symbol) [0x007D747A]\n\t(No symbol) [0x007DFF62]\n\t(No symbol) [0x007EA348]\n\t(No symbol) [0x007ECD46]\n\t(No symbol) [0x007D77D3]\n\t(No symbol) [0x007EA211]\n\t(No symbol) [0x0083D779]\n\t(No symbol) [0x0082ACC6]\n\t(No symbol) [0x00806F68]\n\t(No symbol) [0x008080CD]\n\tGetHandleVerifier [0x00BB3832+2506274]\n\tGetHandleVerifier [0x00BE9794+2727300]\n\tGetHandleVerifier [0x00BEE36C+2746716]\n\tGetHandleVerifier [0x009E6690+617600]\n\t(No symbol) [0x008DC712]\n\t(No symbol) [0x008E1FF8]\n\t(No symbol) [0x008E20DB]\n\t(No symbol) [0x008EC63B]\n\tBaseThreadInitThunk [0x771100F9+25]\n\tRtlGetAppContainerNamedObjectPath [0x77AA7BBE+286]\n\tRtlGetAppContainerNamedObjectPath [0x77AA7B8E+238]\n"
     ]
    }
   ],
   "source": [
    "driver = webdriver.Chrome(r'chromedriver.exe')  # Optional argument, if not specified will search path.\n",
    "driver.get('https://www.imdb.com/list/ls095964455/ ')"
   ]
  },
  {
   "cell_type": "code",
   "execution_count": null,
   "id": "438ee8a1",
   "metadata": {},
   "outputs": [],
   "source": [
    "#Creating empty lists for storing the scrapped data\n",
    "Name=[]\n",
    "Year=[]\n",
    "Genre=[]\n",
    "Runtime=[]\n",
    "Rating=[]\n",
    "Vote=[]\n",
    "\n",
    "#Scrapping the data having the series name\n",
    "name=driver.find_elements(By.XPATH,'//h3[@class=\"lister-item-header\"]/a')\n",
    "for i in name:\n",
    "    Name.append(i.text)\n",
    "    #Scrapping the data having the year span details\n",
    "year=driver.find_elements(By.XPATH,'//span[@class=\"lister-item-year text-muted unbold\"]')\n",
    "for i in year:\n",
    "    Year.append(i.text)\n",
    "    \n",
    "#Scrapping the data having the genre details\n",
    "genre=driver.find_elements(By.XPATH,'//span[@class=\"genre\"]')\n",
    "for i in genre:\n",
    "    Genre.append(i.text)\n",
    "    \n",
    "#Scrapping the data having the runtime details\n",
    "runtime=driver.find_elements(By.XPATH,'//span[@class=\"runtime\"]')\n",
    "for i in runtime:\n",
    "    Runtime.append(i.text)\n",
    "    \n",
    "#Scrapping the data having rating details\n",
    "rating=driver.find_elements(By.XPATH,'//div[@class=\"ipl-rating-star small\"]')\n",
    "for i in rating:\n",
    "    Rating.append(i.text)\n",
    "    \n",
    "#Scrapping the data having the votes details\n",
    "votes=driver.find_elements(By.XPATH,'//span[@name=\"nv\"]')\n",
    "for i in votes:\n",
    "    Vote.append(i.text)"
   ]
  },
  {
   "cell_type": "code",
   "execution_count": null,
   "id": "9bc07629",
   "metadata": {},
   "outputs": [],
   "source": [
    "#Checking the length of the scrapped data\n",
    "print(len(Name),len(Year),len(Genre),len(Runtime),len(Rating),len(Vote))"
   ]
  },
  {
   "cell_type": "code",
   "execution_count": null,
   "id": "e3b0ad9b",
   "metadata": {},
   "outputs": [],
   "source": [
    "#Creating a dataframe for the scrapped data\n",
    "IMDB=pd.DataFrame({'Name':Name,'Year span':Year,'Genre':Genre,'Runtime':Runtime,'Rating':Rating,'Votes':Vote})\n",
    "IMDB"
   ]
  },
  {
   "cell_type": "markdown",
   "id": "5cdb7af2",
   "metadata": {},
   "source": [
    "# 8.Details of Datasets from UCI machine learning repositories. Url = https://archive.ics.uci.edu/ You have to find the following details: A) Dataset name B) Data type C) Task D) Attribute type E) No of instances F) No of attribute G) Year"
   ]
  },
  {
   "cell_type": "code",
   "execution_count": null,
   "id": "f986f03c",
   "metadata": {},
   "outputs": [],
   "source": [
    "driver = webdriver.Chrome(r'chromedriver.exe')  # Optional argument, if not specified will search path.\n",
    "driver.get('https://archive.ics.uci.edu/');\n"
   ]
  },
  {
   "cell_type": "code",
   "execution_count": null,
   "id": "68a9d424",
   "metadata": {},
   "outputs": [],
   "source": [
    "#Clicking on view all datasets link\n",
    "datasets=driver.find_element(By.XPATH,'/html/body/table[1]/tbody/tr/td[2]/span[2]/a/font/b')\n",
    "try:\n",
    "    datasets.click()\n",
    "except ElementNotInteractableException:\n",
    "    driver.get(datasets.get_attribute('href'))"
   ]
  },
  {
   "cell_type": "code",
   "execution_count": null,
   "id": "8c9c7643",
   "metadata": {},
   "outputs": [],
   "source": [
    "#Creating empty lists for storing the scrapped data\n",
    "Name=[]\n",
    "Type=[]\n",
    "Task=[]\n",
    "Attribute=[]\n",
    "No_of_Instance=[]\n",
    "No_of_Attribute=[]\n",
    "Year=[]\n",
    "\n",
    "#Scrapping the data having dataset name\n",
    "try:\n",
    "    names=driver.find_elements(By.XPATH,'/html/body/table[2]/tbody/tr/td[2]/table[2]/tbody/tr/td[1]/table/tbody/tr/td[2]/p/b/a')\n",
    "    for i in names:\n",
    "        Name.append(i.text)\n",
    "except NoSuchElementException:\n",
    "    Name.append('-')\n",
    "    \n",
    "#Scrapping the data having data type\n",
    "try:\n",
    "    types=driver.find_elements(By.XPATH,'/html/body/table[2]/tbody/tr/td[2]/table[2]/tbody/tr/td[2]')\n",
    "    for i in types[1:]:\n",
    "        Type.append(i.text)\n",
    "except NoSuchElementException:\n",
    "    Type.append('-')\n",
    "    \n",
    "#Scrapping the data having default task\n",
    "try:\n",
    "    task=driver.find_elements(By.XPATH,'/html/body/table[2]/tbody/tr/td[2]/table[2]/tbody/tr/td[3]')\n",
    "    for i in task[1:]:\n",
    "        Task.append(i.text)\n",
    "except NoSuchElementException:\n",
    "    Task.append('-')\n",
    "        \n",
    "#Scrapping the data having attribute types\n",
    "try:\n",
    "    attribute=driver.find_elements(By.XPATH,'/html/body/table[2]/tbody/tr/td[2]/table[2]/tbody/tr/td[4]')\n",
    "    for i in attribute[1:]:\n",
    "        Attribute.append(i.text)\n",
    "except NoSuchElementException:\n",
    "    Attribute.append('-')\n",
    "        \n",
    "#Scrapping the data having no of instances\n",
    "try:\n",
    "    instance=driver.find_elements(By.XPATH,'/html/body/table[2]/tbody/tr/td[2]/table[2]/tbody/tr/td[5]')\n",
    "    for i in instance[1:]:\n",
    "        No_of_Instance.append(i.text)\n",
    "except NoSuchElementException:\n",
    "    No_of_Instance.append('-')\n",
    "        \n",
    "#Scrapping the data having no of attributes\n",
    "try:\n",
    "    attribute_no=driver.find_elements(By.XPATH,'/html/body/table[2]/tbody/tr/td[2]/table[2]/tbody/tr/td[6]')\n",
    "    for i in attribute_no[1:]:\n",
    "        No_of_Attribute.append(i.text)\n",
    "except NoSuchElementException:\n",
    "    No_of_Attribute.append('-')\n",
    "        \n",
    "#Scrapping the data having the year details\n",
    "try:\n",
    "    year=driver.find_elements(By.XPATH,'/html/body/table[2]/tbody/tr/td[2]/table[2]/tbody/tr/td[7]')\n",
    "    for i in year[1:]:\n",
    "        Year.append(i.text)\n",
    "except NoSuchElementException:\n",
    "    Year.append('-')"
   ]
  },
  {
   "cell_type": "code",
   "execution_count": null,
   "id": "3536cd4f",
   "metadata": {},
   "outputs": [],
   "source": [
    "#Creating the dataframe\n",
    "df=pd.DataFrame({\"Name\":Name,\"Data types\":Type,\"Default Task\":Task,\"Attribute types\":Attribute, \n",
    "                 \"No of instances\":No_of_Instance,\"No of atrributes\":No_of_Attribute,\"Year\":Year})\n",
    "df"
   ]
  },
  {
   "cell_type": "markdown",
   "id": "24010f00",
   "metadata": {},
   "source": [
    "# 9. Scrape the details of Data science recruiters from naukri.com.\n",
    "Url = https://www.naukri.com/\n",
    "You have to find the following details:\n",
    "A) Name\n",
    "B) Designation\n",
    "C) Company\n",
    "D) Skills they hire for\n",
    "E) Location"
   ]
  },
  {
   "cell_type": "code",
   "execution_count": 46,
   "id": "dc19bbdd",
   "metadata": {},
   "outputs": [
    {
     "name": "stderr",
     "output_type": "stream",
     "text": [
      "C:\\Users\\dell\\AppData\\Local\\Temp\\ipykernel_17372\\34296568.py:1: DeprecationWarning: executable_path has been deprecated, please pass in a Service object\n",
      "  driver = webdriver.Chrome(r'chromedriver.exe')  # Optional argument, if not specified will search path.\n"
     ]
    },
    {
     "ename": "TimeoutException",
     "evalue": "Message: timeout: Timed out receiving message from renderer: 298.193\n  (Session info: chrome=111.0.5563.65)\nStacktrace:\nBacktrace:\n\t(No symbol) [0x0093DCE3]\n\t(No symbol) [0x008D39D1]\n\t(No symbol) [0x007E4DA8]\n\t(No symbol) [0x007D80AF]\n\t(No symbol) [0x007D7EFC]\n\t(No symbol) [0x007D6BF6]\n\t(No symbol) [0x007D747A]\n\t(No symbol) [0x007DFF62]\n\t(No symbol) [0x007EA348]\n\t(No symbol) [0x007ECD46]\n\t(No symbol) [0x007D77D3]\n\t(No symbol) [0x007EA211]\n\t(No symbol) [0x0083D779]\n\t(No symbol) [0x0082ACC6]\n\t(No symbol) [0x00806F68]\n\t(No symbol) [0x008080CD]\n\tGetHandleVerifier [0x00BB3832+2506274]\n\tGetHandleVerifier [0x00BE9794+2727300]\n\tGetHandleVerifier [0x00BEE36C+2746716]\n\tGetHandleVerifier [0x009E6690+617600]\n\t(No symbol) [0x008DC712]\n\t(No symbol) [0x008E1FF8]\n\t(No symbol) [0x008E20DB]\n\t(No symbol) [0x008EC63B]\n\tBaseThreadInitThunk [0x771100F9+25]\n\tRtlGetAppContainerNamedObjectPath [0x77AA7BBE+286]\n\tRtlGetAppContainerNamedObjectPath [0x77AA7B8E+238]\n",
     "output_type": "error",
     "traceback": [
      "\u001b[1;31m---------------------------------------------------------------------------\u001b[0m",
      "\u001b[1;31mTimeoutException\u001b[0m                          Traceback (most recent call last)",
      "\u001b[1;32m~\\AppData\\Local\\Temp\\ipykernel_17372\\34296568.py\u001b[0m in \u001b[0;36m<module>\u001b[1;34m\u001b[0m\n\u001b[0;32m      1\u001b[0m \u001b[0mdriver\u001b[0m \u001b[1;33m=\u001b[0m \u001b[0mwebdriver\u001b[0m\u001b[1;33m.\u001b[0m\u001b[0mChrome\u001b[0m\u001b[1;33m(\u001b[0m\u001b[1;34mr'chromedriver.exe'\u001b[0m\u001b[1;33m)\u001b[0m  \u001b[1;31m# Optional argument, if not specified will search path.\u001b[0m\u001b[1;33m\u001b[0m\u001b[1;33m\u001b[0m\u001b[0m\n\u001b[1;32m----> 2\u001b[1;33m \u001b[0mdriver\u001b[0m\u001b[1;33m.\u001b[0m\u001b[0mget\u001b[0m\u001b[1;33m(\u001b[0m\u001b[1;34m' https://www.naukri.com/'\u001b[0m\u001b[1;33m)\u001b[0m\u001b[1;33m;\u001b[0m\u001b[1;33m\u001b[0m\u001b[1;33m\u001b[0m\u001b[0m\n\u001b[0m",
      "\u001b[1;32m~\\anaconda3\\lib\\site-packages\\selenium\\webdriver\\remote\\webdriver.py\u001b[0m in \u001b[0;36mget\u001b[1;34m(self, url)\u001b[0m\n\u001b[0;32m    447\u001b[0m     \u001b[1;32mdef\u001b[0m \u001b[0mget\u001b[0m\u001b[1;33m(\u001b[0m\u001b[0mself\u001b[0m\u001b[1;33m,\u001b[0m \u001b[0murl\u001b[0m\u001b[1;33m:\u001b[0m \u001b[0mstr\u001b[0m\u001b[1;33m)\u001b[0m \u001b[1;33m->\u001b[0m \u001b[1;32mNone\u001b[0m\u001b[1;33m:\u001b[0m\u001b[1;33m\u001b[0m\u001b[1;33m\u001b[0m\u001b[0m\n\u001b[0;32m    448\u001b[0m         \u001b[1;34m\"\"\"Loads a web page in the current browser session.\"\"\"\u001b[0m\u001b[1;33m\u001b[0m\u001b[1;33m\u001b[0m\u001b[0m\n\u001b[1;32m--> 449\u001b[1;33m         \u001b[0mself\u001b[0m\u001b[1;33m.\u001b[0m\u001b[0mexecute\u001b[0m\u001b[1;33m(\u001b[0m\u001b[0mCommand\u001b[0m\u001b[1;33m.\u001b[0m\u001b[0mGET\u001b[0m\u001b[1;33m,\u001b[0m \u001b[1;33m{\u001b[0m\u001b[1;34m\"url\"\u001b[0m\u001b[1;33m:\u001b[0m \u001b[0murl\u001b[0m\u001b[1;33m}\u001b[0m\u001b[1;33m)\u001b[0m\u001b[1;33m\u001b[0m\u001b[1;33m\u001b[0m\u001b[0m\n\u001b[0m\u001b[0;32m    450\u001b[0m \u001b[1;33m\u001b[0m\u001b[0m\n\u001b[0;32m    451\u001b[0m     \u001b[1;33m@\u001b[0m\u001b[0mproperty\u001b[0m\u001b[1;33m\u001b[0m\u001b[1;33m\u001b[0m\u001b[0m\n",
      "\u001b[1;32m~\\anaconda3\\lib\\site-packages\\selenium\\webdriver\\remote\\webdriver.py\u001b[0m in \u001b[0;36mexecute\u001b[1;34m(self, driver_command, params)\u001b[0m\n\u001b[0;32m    438\u001b[0m         \u001b[0mresponse\u001b[0m \u001b[1;33m=\u001b[0m \u001b[0mself\u001b[0m\u001b[1;33m.\u001b[0m\u001b[0mcommand_executor\u001b[0m\u001b[1;33m.\u001b[0m\u001b[0mexecute\u001b[0m\u001b[1;33m(\u001b[0m\u001b[0mdriver_command\u001b[0m\u001b[1;33m,\u001b[0m \u001b[0mparams\u001b[0m\u001b[1;33m)\u001b[0m\u001b[1;33m\u001b[0m\u001b[1;33m\u001b[0m\u001b[0m\n\u001b[0;32m    439\u001b[0m         \u001b[1;32mif\u001b[0m \u001b[0mresponse\u001b[0m\u001b[1;33m:\u001b[0m\u001b[1;33m\u001b[0m\u001b[1;33m\u001b[0m\u001b[0m\n\u001b[1;32m--> 440\u001b[1;33m             \u001b[0mself\u001b[0m\u001b[1;33m.\u001b[0m\u001b[0merror_handler\u001b[0m\u001b[1;33m.\u001b[0m\u001b[0mcheck_response\u001b[0m\u001b[1;33m(\u001b[0m\u001b[0mresponse\u001b[0m\u001b[1;33m)\u001b[0m\u001b[1;33m\u001b[0m\u001b[1;33m\u001b[0m\u001b[0m\n\u001b[0m\u001b[0;32m    441\u001b[0m             \u001b[0mresponse\u001b[0m\u001b[1;33m[\u001b[0m\u001b[1;34m\"value\"\u001b[0m\u001b[1;33m]\u001b[0m \u001b[1;33m=\u001b[0m \u001b[0mself\u001b[0m\u001b[1;33m.\u001b[0m\u001b[0m_unwrap_value\u001b[0m\u001b[1;33m(\u001b[0m\u001b[0mresponse\u001b[0m\u001b[1;33m.\u001b[0m\u001b[0mget\u001b[0m\u001b[1;33m(\u001b[0m\u001b[1;34m\"value\"\u001b[0m\u001b[1;33m,\u001b[0m \u001b[1;32mNone\u001b[0m\u001b[1;33m)\u001b[0m\u001b[1;33m)\u001b[0m\u001b[1;33m\u001b[0m\u001b[1;33m\u001b[0m\u001b[0m\n\u001b[0;32m    442\u001b[0m             \u001b[1;32mreturn\u001b[0m \u001b[0mresponse\u001b[0m\u001b[1;33m\u001b[0m\u001b[1;33m\u001b[0m\u001b[0m\n",
      "\u001b[1;32m~\\anaconda3\\lib\\site-packages\\selenium\\webdriver\\remote\\errorhandler.py\u001b[0m in \u001b[0;36mcheck_response\u001b[1;34m(self, response)\u001b[0m\n\u001b[0;32m    243\u001b[0m                 \u001b[0malert_text\u001b[0m \u001b[1;33m=\u001b[0m \u001b[0mvalue\u001b[0m\u001b[1;33m[\u001b[0m\u001b[1;34m\"alert\"\u001b[0m\u001b[1;33m]\u001b[0m\u001b[1;33m.\u001b[0m\u001b[0mget\u001b[0m\u001b[1;33m(\u001b[0m\u001b[1;34m\"text\"\u001b[0m\u001b[1;33m)\u001b[0m\u001b[1;33m\u001b[0m\u001b[1;33m\u001b[0m\u001b[0m\n\u001b[0;32m    244\u001b[0m             \u001b[1;32mraise\u001b[0m \u001b[0mexception_class\u001b[0m\u001b[1;33m(\u001b[0m\u001b[0mmessage\u001b[0m\u001b[1;33m,\u001b[0m \u001b[0mscreen\u001b[0m\u001b[1;33m,\u001b[0m \u001b[0mstacktrace\u001b[0m\u001b[1;33m,\u001b[0m \u001b[0malert_text\u001b[0m\u001b[1;33m)\u001b[0m  \u001b[1;31m# type: ignore[call-arg]  # mypy is not smart enough here\u001b[0m\u001b[1;33m\u001b[0m\u001b[1;33m\u001b[0m\u001b[0m\n\u001b[1;32m--> 245\u001b[1;33m         \u001b[1;32mraise\u001b[0m \u001b[0mexception_class\u001b[0m\u001b[1;33m(\u001b[0m\u001b[0mmessage\u001b[0m\u001b[1;33m,\u001b[0m \u001b[0mscreen\u001b[0m\u001b[1;33m,\u001b[0m \u001b[0mstacktrace\u001b[0m\u001b[1;33m)\u001b[0m\u001b[1;33m\u001b[0m\u001b[1;33m\u001b[0m\u001b[0m\n\u001b[0m",
      "\u001b[1;31mTimeoutException\u001b[0m: Message: timeout: Timed out receiving message from renderer: 298.193\n  (Session info: chrome=111.0.5563.65)\nStacktrace:\nBacktrace:\n\t(No symbol) [0x0093DCE3]\n\t(No symbol) [0x008D39D1]\n\t(No symbol) [0x007E4DA8]\n\t(No symbol) [0x007D80AF]\n\t(No symbol) [0x007D7EFC]\n\t(No symbol) [0x007D6BF6]\n\t(No symbol) [0x007D747A]\n\t(No symbol) [0x007DFF62]\n\t(No symbol) [0x007EA348]\n\t(No symbol) [0x007ECD46]\n\t(No symbol) [0x007D77D3]\n\t(No symbol) [0x007EA211]\n\t(No symbol) [0x0083D779]\n\t(No symbol) [0x0082ACC6]\n\t(No symbol) [0x00806F68]\n\t(No symbol) [0x008080CD]\n\tGetHandleVerifier [0x00BB3832+2506274]\n\tGetHandleVerifier [0x00BE9794+2727300]\n\tGetHandleVerifier [0x00BEE36C+2746716]\n\tGetHandleVerifier [0x009E6690+617600]\n\t(No symbol) [0x008DC712]\n\t(No symbol) [0x008E1FF8]\n\t(No symbol) [0x008E20DB]\n\t(No symbol) [0x008EC63B]\n\tBaseThreadInitThunk [0x771100F9+25]\n\tRtlGetAppContainerNamedObjectPath [0x77AA7BBE+286]\n\tRtlGetAppContainerNamedObjectPath [0x77AA7B8E+238]\n"
     ]
    }
   ],
   "source": [
    "driver = webdriver.Chrome(r'chromedriver.exe')  # Optional argument, if not specified will search path.\n",
    "driver.get(' https://www.naukri.com/');"
   ]
  },
  {
   "cell_type": "code",
   "execution_count": null,
   "id": "d9e8aa9c",
   "metadata": {},
   "outputs": [],
   "source": [
    " #Clicking the recruiters optio\n",
    "recruit=driver.find_element(By.XPATH,'//ul[@class=\"midSec menu\"]/li[2]/a')\n",
    "driver.get(recruit.get_attribute('href'))\n"
   ]
  },
  {
   "cell_type": "code",
   "execution_count": null,
   "id": "559d9383",
   "metadata": {},
   "outputs": [],
   "source": [
    "#Finding the required elements from the search bars of job \n",
    "search_job=driver.find_element(By.XPATH,'//input[@class=\"suggestor-input \"]')\n",
    "search_job.send_keys('Data science')  #Sending the keyword\n",
    "\n",
    "#Clicking the button for searching the keyword\n",
    "driver.find_element(By.XPATH,'//div[@class=\"qsbSubmit\"]').click()"
   ]
  },
  {
   "cell_type": "code",
   "execution_count": null,
   "id": "3912d197",
   "metadata": {},
   "outputs": [],
   "source": [
    "#Creating empty lists for storing the scrapped data\n",
    "Name=[]\n",
    "Designation=[]\n",
    "Company=[]\n",
    "Skills=[]\n",
    "Location=[]\n",
    "\n",
    "#Scrapping the data having the recruiter's name\n",
    "name=driver.find_elements(By.XPATH,'//span[@class=\"fl ellipsis\"]')\n",
    "for i in name:\n",
    "    Name.append(i.text)\n",
    "    \n",
    "#Scrapping the data having the recruiter's designation\n",
    "desc=driver.find_elements(By.XPATH,'//span[@class=\"ellipsis clr\"]')\n",
    "for i in desc:\n",
    "    Designation.append(i.text)\n",
    "    \n",
    "#Scrapping the data having company name\n",
    "company=driver.find_elements(By.XPATH,'//p[@class=\"highlightable\"]/a[2]')\n",
    "for i in company:\n",
    "    Company.append(i.text)\n",
    "    \n",
    "#Scrapping the data having the skillset details\n",
    "skills=driver.find_elements(By.XPATH,'//div[@class=\"hireSec highlightable\"]')\n",
    "for i in skills:\n",
    "    Skills.append(i.text)\n",
    "    \n",
    "#Scrapping the data having the location details\n",
    "location=driver.find_elements(By.XPATH,'//small[@class=\"ellipsis\"]')\n",
    "for i in location:\n",
    "    Location.append(i.text)  "
   ]
  },
  {
   "cell_type": "code",
   "execution_count": null,
   "id": "a2ffe30f",
   "metadata": {},
   "outputs": [],
   "source": [
    "#Creating a dataframe for the scrapped data\n",
    "naukri=pd.DataFrame({})\n",
    "naukri['Name']=Name\n",
    "naukri['Designation']=Designation\n",
    "naukri['Company']=Company\n",
    "naukri['Skills']=Skills\n",
    "naukri['Location']=Location\n",
    "naukri\n"
   ]
  }
 ],
 "metadata": {
  "kernelspec": {
   "display_name": "Python 3 (ipykernel)",
   "language": "python",
   "name": "python3"
  },
  "language_info": {
   "codemirror_mode": {
    "name": "ipython",
    "version": 3
   },
   "file_extension": ".py",
   "mimetype": "text/x-python",
   "name": "python",
   "nbconvert_exporter": "python",
   "pygments_lexer": "ipython3",
   "version": "3.9.13"
  }
 },
 "nbformat": 4,
 "nbformat_minor": 5
}
